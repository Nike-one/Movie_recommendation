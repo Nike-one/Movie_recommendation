{
 "cells": [
  {
   "cell_type": "code",
   "execution_count": 184,
   "id": "a7ab28c7",
   "metadata": {},
   "outputs": [],
   "source": [
    "import numpy as np\n",
    "import pandas as pd\n",
    "import difflib\n",
    "from sklearn.feature_extraction.text import TfidfVectorizer\n",
    "from sklearn.metrics.pairwise import cosine_similarity\n",
    "import os\n"
   ]
  },
  {
   "cell_type": "code",
   "execution_count": 185,
   "id": "382234fc",
   "metadata": {},
   "outputs": [
    {
     "data": {
      "text/plain": [
       "'D:\\\\python\\\\movie_recommendation'"
      ]
     },
     "metadata": {},
     "output_type": "display_data"
    }
   ],
   "source": [
    "display (os.getcwd())\n"
   ]
  },
  {
   "cell_type": "code",
   "execution_count": 186,
   "id": "1d2d58df",
   "metadata": {},
   "outputs": [
    {
     "data": {
      "text/html": [
       "<div>\n",
       "<style scoped>\n",
       "    .dataframe tbody tr th:only-of-type {\n",
       "        vertical-align: middle;\n",
       "    }\n",
       "\n",
       "    .dataframe tbody tr th {\n",
       "        vertical-align: top;\n",
       "    }\n",
       "\n",
       "    .dataframe thead th {\n",
       "        text-align: right;\n",
       "    }\n",
       "</style>\n",
       "<table border=\"1\" class=\"dataframe\">\n",
       "  <thead>\n",
       "    <tr style=\"text-align: right;\">\n",
       "      <th></th>\n",
       "      <th>Movie_ID</th>\n",
       "      <th>Title</th>\n",
       "      <th>Year</th>\n",
       "      <th>Genre</th>\n",
       "      <th>index</th>\n",
       "    </tr>\n",
       "  </thead>\n",
       "  <tbody>\n",
       "    <tr>\n",
       "      <th>0</th>\n",
       "      <td>34759</td>\n",
       "      <td>Aaghaaz</td>\n",
       "      <td>2000</td>\n",
       "      <td>Thriller</td>\n",
       "      <td>0</td>\n",
       "    </tr>\n",
       "    <tr>\n",
       "      <th>1</th>\n",
       "      <td>34760</td>\n",
       "      <td>Aaj Ka Ravan</td>\n",
       "      <td>2000</td>\n",
       "      <td>Drama</td>\n",
       "      <td>1</td>\n",
       "    </tr>\n",
       "    <tr>\n",
       "      <th>2</th>\n",
       "      <td>34761</td>\n",
       "      <td>Anjaane</td>\n",
       "      <td>2000</td>\n",
       "      <td>Romance</td>\n",
       "      <td>2</td>\n",
       "    </tr>\n",
       "    <tr>\n",
       "      <th>3</th>\n",
       "      <td>34762</td>\n",
       "      <td>Anokha Moti</td>\n",
       "      <td>2000</td>\n",
       "      <td>Family</td>\n",
       "      <td>3</td>\n",
       "    </tr>\n",
       "    <tr>\n",
       "      <th>4</th>\n",
       "      <td>34763</td>\n",
       "      <td>Apradhi Kaun</td>\n",
       "      <td>2000</td>\n",
       "      <td>Thriller</td>\n",
       "      <td>4</td>\n",
       "    </tr>\n",
       "  </tbody>\n",
       "</table>\n",
       "</div>"
      ],
      "text/plain": [
       "   Movie_ID         Title  Year     Genre  index\n",
       "0     34759      Aaghaaz   2000  Thriller      0\n",
       "1     34760  Aaj Ka Ravan  2000     Drama      1\n",
       "2     34761       Anjaane  2000   Romance      2\n",
       "3     34762   Anokha Moti  2000    Family      3\n",
       "4     34763  Apradhi Kaun  2000  Thriller      4"
      ]
     },
     "execution_count": 186,
     "metadata": {},
     "output_type": "execute_result"
    }
   ],
   "source": [
    "movies_data =pd.read_csv('Movie_List.csv',encoding=('ISO 8859-1'))\n",
    "movies_data.head()\n"
   ]
  },
  {
   "cell_type": "code",
   "execution_count": 187,
   "id": "646657f8",
   "metadata": {},
   "outputs": [
    {
     "data": {
      "text/plain": [
       "(2089, 5)"
      ]
     },
     "metadata": {},
     "output_type": "display_data"
    }
   ],
   "source": [
    "display (movies_data.shape)\n"
   ]
  },
  {
   "cell_type": "code",
   "execution_count": 188,
   "id": "461ad4ca",
   "metadata": {},
   "outputs": [
    {
     "name": "stdout",
     "output_type": "stream",
     "text": [
      "['Genre', 'Title']\n"
     ]
    }
   ],
   "source": [
    "selected_features = ['Genre','Title']\n",
    "print(selected_features)\n"
   ]
  },
  {
   "cell_type": "code",
   "execution_count": 189,
   "id": "e06c89f4",
   "metadata": {},
   "outputs": [
    {
     "name": "stdout",
     "output_type": "stream",
     "text": [
      "<class 'pandas.core.frame.DataFrame'>\n",
      "RangeIndex: 2089 entries, 0 to 2088\n",
      "Data columns (total 5 columns):\n",
      " #   Column    Non-Null Count  Dtype \n",
      "---  ------    --------------  ----- \n",
      " 0   Movie_ID  2089 non-null   int64 \n",
      " 1   Title     2089 non-null   object\n",
      " 2   Year      2089 non-null   int64 \n",
      " 3   Genre     2035 non-null   object\n",
      " 4   index     2089 non-null   int64 \n",
      "dtypes: int64(3), object(2)\n",
      "memory usage: 81.7+ KB\n"
     ]
    },
    {
     "data": {
      "text/plain": [
       "None"
      ]
     },
     "metadata": {},
     "output_type": "display_data"
    }
   ],
   "source": [
    "display (movies_data.info())\n"
   ]
  },
  {
   "cell_type": "code",
   "execution_count": 190,
   "id": "af0a45c4",
   "metadata": {},
   "outputs": [
    {
     "data": {
      "text/plain": [
       "Movie_ID     0\n",
       "Title        0\n",
       "Year         0\n",
       "Genre       54\n",
       "index        0\n",
       "dtype: int64"
      ]
     },
     "metadata": {},
     "output_type": "display_data"
    }
   ],
   "source": [
    "display (movies_data.isna().sum())\n"
   ]
  },
  {
   "cell_type": "code",
   "execution_count": 192,
   "id": "3838aef8",
   "metadata": {},
   "outputs": [
    {
     "data": {
      "text/html": [
       "<div>\n",
       "<style scoped>\n",
       "    .dataframe tbody tr th:only-of-type {\n",
       "        vertical-align: middle;\n",
       "    }\n",
       "\n",
       "    .dataframe tbody tr th {\n",
       "        vertical-align: top;\n",
       "    }\n",
       "\n",
       "    .dataframe thead th {\n",
       "        text-align: right;\n",
       "    }\n",
       "</style>\n",
       "<table border=\"1\" class=\"dataframe\">\n",
       "  <thead>\n",
       "    <tr style=\"text-align: right;\">\n",
       "      <th></th>\n",
       "      <th>Genre</th>\n",
       "      <th>Title</th>\n",
       "    </tr>\n",
       "  </thead>\n",
       "  <tbody>\n",
       "    <tr>\n",
       "      <th>0</th>\n",
       "      <td>Thriller</td>\n",
       "      <td>Aaghaaz</td>\n",
       "    </tr>\n",
       "    <tr>\n",
       "      <th>1</th>\n",
       "      <td>Drama</td>\n",
       "      <td>Aaj Ka Ravan</td>\n",
       "    </tr>\n",
       "    <tr>\n",
       "      <th>2</th>\n",
       "      <td>Romance</td>\n",
       "      <td>Anjaane</td>\n",
       "    </tr>\n",
       "    <tr>\n",
       "      <th>3</th>\n",
       "      <td>Family</td>\n",
       "      <td>Anokha Moti</td>\n",
       "    </tr>\n",
       "    <tr>\n",
       "      <th>4</th>\n",
       "      <td>Thriller</td>\n",
       "      <td>Apradhi Kaun</td>\n",
       "    </tr>\n",
       "  </tbody>\n",
       "</table>\n",
       "</div>"
      ],
      "text/plain": [
       "      Genre         Title\n",
       "0  Thriller      Aaghaaz \n",
       "1     Drama  Aaj Ka Ravan\n",
       "2   Romance       Anjaane\n",
       "3    Family   Anokha Moti\n",
       "4  Thriller  Apradhi Kaun"
      ]
     },
     "metadata": {},
     "output_type": "display_data"
    }
   ],
   "source": [
    "display (movies_data[selected_features].head())"
   ]
  },
  {
   "cell_type": "code",
   "execution_count": 193,
   "id": "1ba466a9",
   "metadata": {},
   "outputs": [
    {
     "data": {
      "text/plain": [
       "Genre    54\n",
       "Title     0\n",
       "dtype: int64"
      ]
     },
     "metadata": {},
     "output_type": "display_data"
    },
    {
     "data": {
      "text/plain": [
       "(2089, 5)"
      ]
     },
     "metadata": {},
     "output_type": "display_data"
    }
   ],
   "source": [
    "display (movies_data[selected_features].isna().sum())\n",
    "display (movies_data.shape)\n"
   ]
  },
  {
   "cell_type": "code",
   "execution_count": 194,
   "id": "1c5bbad9",
   "metadata": {},
   "outputs": [
    {
     "data": {
      "text/html": [
       "<div>\n",
       "<style scoped>\n",
       "    .dataframe tbody tr th:only-of-type {\n",
       "        vertical-align: middle;\n",
       "    }\n",
       "\n",
       "    .dataframe tbody tr th {\n",
       "        vertical-align: top;\n",
       "    }\n",
       "\n",
       "    .dataframe thead th {\n",
       "        text-align: right;\n",
       "    }\n",
       "</style>\n",
       "<table border=\"1\" class=\"dataframe\">\n",
       "  <thead>\n",
       "    <tr style=\"text-align: right;\">\n",
       "      <th></th>\n",
       "      <th>Movie_ID</th>\n",
       "      <th>Title</th>\n",
       "      <th>Year</th>\n",
       "      <th>Genre</th>\n",
       "      <th>index</th>\n",
       "    </tr>\n",
       "  </thead>\n",
       "  <tbody>\n",
       "    <tr>\n",
       "      <th>0</th>\n",
       "      <td>34759</td>\n",
       "      <td>Aaghaaz</td>\n",
       "      <td>2000</td>\n",
       "      <td>Thriller</td>\n",
       "      <td>0</td>\n",
       "    </tr>\n",
       "    <tr>\n",
       "      <th>1</th>\n",
       "      <td>34760</td>\n",
       "      <td>Aaj Ka Ravan</td>\n",
       "      <td>2000</td>\n",
       "      <td>Drama</td>\n",
       "      <td>1</td>\n",
       "    </tr>\n",
       "    <tr>\n",
       "      <th>2</th>\n",
       "      <td>34761</td>\n",
       "      <td>Anjaane</td>\n",
       "      <td>2000</td>\n",
       "      <td>Romance</td>\n",
       "      <td>2</td>\n",
       "    </tr>\n",
       "    <tr>\n",
       "      <th>3</th>\n",
       "      <td>34762</td>\n",
       "      <td>Anokha Moti</td>\n",
       "      <td>2000</td>\n",
       "      <td>Family</td>\n",
       "      <td>3</td>\n",
       "    </tr>\n",
       "    <tr>\n",
       "      <th>4</th>\n",
       "      <td>34763</td>\n",
       "      <td>Apradhi Kaun</td>\n",
       "      <td>2000</td>\n",
       "      <td>Thriller</td>\n",
       "      <td>4</td>\n",
       "    </tr>\n",
       "  </tbody>\n",
       "</table>\n",
       "</div>"
      ],
      "text/plain": [
       "   Movie_ID         Title  Year     Genre  index\n",
       "0     34759      Aaghaaz   2000  Thriller      0\n",
       "1     34760  Aaj Ka Ravan  2000     Drama      1\n",
       "2     34761       Anjaane  2000   Romance      2\n",
       "3     34762   Anokha Moti  2000    Family      3\n",
       "4     34763  Apradhi Kaun  2000  Thriller      4"
      ]
     },
     "metadata": {},
     "output_type": "display_data"
    }
   ],
   "source": [
    "for feature in selected_features:\n",
    "    movies_data[feature] = movies_data[feature].fillna('')\n",
    "display (movies_data.head())\n"
   ]
  },
  {
   "cell_type": "code",
   "execution_count": 196,
   "id": "c4090aa4",
   "metadata": {},
   "outputs": [
    {
     "data": {
      "text/plain": [
       "0                Thriller Aaghaaz \n",
       "1               Drama Aaj Ka Ravan\n",
       "2                  Romance Anjaane\n",
       "3               Family Anokha Moti\n",
       "4            Thriller Apradhi Kaun\n",
       "                   ...            \n",
       "2084         Action/battle Panipat\n",
       "2085    Comedy Pati, Patni Aur Woh\n",
       "2086     Crime,Thriller Mardaani 2\n",
       "2087              Action Dabangg 3\n",
       "2088              Comedy Good News\n",
       "Length: 2089, dtype: object"
      ]
     },
     "metadata": {},
     "output_type": "display_data"
    }
   ],
   "source": [
    "combined_features = movies_data['Genre']+' '+movies_data['Title']\n",
    "display (combined_features)"
   ]
  },
  {
   "cell_type": "code",
   "execution_count": 197,
   "id": "4a5a0013",
   "metadata": {},
   "outputs": [
    {
     "data": {
      "text/plain": [
       "(2089, 2777)"
      ]
     },
     "metadata": {},
     "output_type": "display_data"
    },
    {
     "name": "stdout",
     "output_type": "stream",
     "text": [
      "  (0, 48)\t0.9423066855531766\n",
      "  (0, 2541)\t0.3347508183138419\n",
      "  (1, 2128)\t0.6554617718339975\n",
      "  (1, 1298)\t0.42691826242830244\n",
      "  (1, 49)\t0.5983258944825737\n",
      "  (1, 785)\t0.1735418879148889\n",
      "  (2, 179)\t0.9525784530707476\n",
      "  (2, 2174)\t0.30429310006199856\n",
      "  (3, 1753)\t0.6459632551176198\n",
      "  (3, 187)\t0.6459632551176198\n",
      "  (3, 854)\t0.40677136830865823\n",
      "  (4, 1384)\t0.6304140545272957\n",
      "  (4, 203)\t0.7314740968743919\n",
      "  (4, 2541)\t0.25985335375216656\n",
      "  (5, 216)\t0.8613565540224976\n",
      "  (5, 2386)\t0.45393361688811557\n",
      "  (5, 785)\t0.22805516503986897\n",
      "  (6, 239)\t0.9255054466710834\n",
      "  (6, 94)\t0.3787342976047434\n",
      "  (7, 267)\t0.8961153750101477\n",
      "  (7, 94)\t0.3667073255462922\n",
      "  (7, 785)\t0.25000594405155285\n",
      "  (8, 2103)\t0.566687212331616\n",
      "  (8, 2727)\t0.5971354686903353\n",
      "  (8, 331)\t0.5146355742844216\n",
      "  :\t:\n",
      "  (2081, 599)\t0.2888145303147165\n",
      "  (2082, 347)\t0.7890842127760094\n",
      "  (2082, 747)\t0.508265175130405\n",
      "  (2082, 2174)\t0.26560984053750925\n",
      "  (2082, 785)\t0.22014547351004735\n",
      "  (2083, 1197)\t0.6945849464961737\n",
      "  (2083, 1238)\t0.6591676892359283\n",
      "  (2083, 2174)\t0.22187926458380713\n",
      "  (2083, 785)\t0.18390024881990524\n",
      "  (2084, 1928)\t0.6818646815839894\n",
      "  (2084, 339)\t0.6818646815839894\n",
      "  (2084, 94)\t0.26480391238939366\n",
      "  (2085, 1959)\t0.5561256530726048\n",
      "  (2085, 1962)\t0.5277685091073447\n",
      "  (2085, 2707)\t0.49204273279612715\n",
      "  (2085, 224)\t0.3767399630621715\n",
      "  (2085, 599)\t0.16776652861525146\n",
      "  (2086, 1643)\t0.8250749875122216\n",
      "  (2086, 619)\t0.4731394101237313\n",
      "  (2086, 2541)\t0.30885330428777147\n",
      "  (2087, 638)\t0.9201859337662317\n",
      "  (2087, 94)\t0.3914816053134147\n",
      "  (2088, 1835)\t0.7208875080980691\n",
      "  (2088, 1001)\t0.6580485417131673\n",
      "  (2088, 599)\t0.2174702678927178\n"
     ]
    }
   ],
   "source": [
    "vectorizer = TfidfVectorizer()\n",
    "feature_vectors = vectorizer.fit_transform(combined_features)\n",
    "display (feature_vectors.shape)\n",
    "print (feature_vectors)\n"
   ]
  },
  {
   "cell_type": "code",
   "execution_count": 198,
   "id": "e5a87063",
   "metadata": {},
   "outputs": [
    {
     "name": "stdout",
     "output_type": "stream",
     "text": [
      "[[1.        0.        0.        ... 0.1033889 0.        0.       ]\n",
      " [0.        1.        0.        ... 0.        0.        0.       ]\n",
      " [0.        0.        1.        ... 0.        0.        0.       ]\n",
      " ...\n",
      " [0.1033889 0.        0.        ... 1.        0.        0.       ]\n",
      " [0.        0.        0.        ... 0.        1.        0.       ]\n",
      " [0.        0.        0.        ... 0.        0.        1.       ]]\n"
     ]
    }
   ],
   "source": [
    "similarity = cosine_similarity(feature_vectors)\n",
    "print  (similarity )\n"
   ]
  },
  {
   "cell_type": "code",
   "execution_count": 199,
   "id": "4bf3fe6c",
   "metadata": {},
   "outputs": [
    {
     "data": {
      "text/plain": [
       "(2089, 2089)"
      ]
     },
     "metadata": {},
     "output_type": "display_data"
    }
   ],
   "source": [
    "display(similarity.shape)\n"
   ]
  },
  {
   "cell_type": "code",
   "execution_count": 201,
   "id": "751dc71a",
   "metadata": {},
   "outputs": [
    {
     "name": "stdout",
     "output_type": "stream",
     "text": [
      " Enter your favourite movie name : Baaghi\n"
     ]
    }
   ],
   "source": [
    "movie_name = input(' Enter your favourite movie name : ')\n"
   ]
  },
  {
   "cell_type": "code",
   "execution_count": 202,
   "id": "559fa1fe",
   "metadata": {},
   "outputs": [
    {
     "name": "stdout",
     "output_type": "stream",
     "text": [
      "['Aaghaaz ', 'Aaj Ka Ravan', 'Anjaane', 'Anokha Moti', 'Apradhi Kaun', 'Astitva', 'Baaghi', 'Badal', 'Bas Yaari Rakho', 'Bawandar', 'Beti No.1', 'Bhai Thakur', 'Bichhoo', 'Billa No. 786', 'Bulandi', 'Chal Mere Bhai', 'Champion', 'Dahshat', 'Deewane', 'Dhai Akshar Prem Ke', 'Dhadkan', 'Dil Ki Dhadkan', 'Dil Pe Mat Le Yaar', 'Dr. Babasaheb Ambedkar', 'Dr Mukta', 'Dulhan Hum Le Jayenge', 'Fiza', 'Gaja Gamini', 'Gang', 'Ghaath', 'Hadh Kar Di Aapne', 'Hamara Dil Aapke Paas Hai', 'Har Dil Jo Pyar Karega', 'Hari-Bhari', 'Hera Pheri', 'Hey Ram', 'Hum To Mohabbat Karega', 'Jallad No. 1', 'Jis Desh Mein Ganga Rehta Hain', 'Joru Ka Ghulam', 'Josh', 'Jung', 'Jungle', 'Kabrastan', 'Kahin Pyaar Na Ho Jaaye', 'Kaho Naa... Pyaar Hai', 'Kairee', 'Karobaar: The Business of Love', 'Kharidaar', 'Khauff', 'Khiladi 420', 'Krodh', 'Kunwara', 'Kurukshetra', 'Kya Kehna', 'Le Chal Apne Sang', 'Lekroo', 'Mela', 'Meri Jung Ka Elaan', 'Mission Kashmir', 'Mohabbatein', 'Nidaan', 'Papa the Great', 'Phir Bhi Dil Hai Hindustani', 'The Prince of Light', 'Pukar', 'Raja Ko Rani Se Pyar Ho Gaya', 'Raju Chacha', 'Refugee', 'The Revenge: Geeta Mera Naam', 'Saanjh', 'Second Generation', 'Shikaar', 'Shikari', 'Snip!', 'Sultaan', 'Tapish', 'Tarkieb', 'Tera Jadoo Chal Gayaa', 'Tere Liye', 'Tune Mera Dil Le Liyaa', 'Zindagi Zindabad', 'Abhay', 'Aamdani Atthanni Kharcha Rupaiya', 'Aashiq', 'Ajnabee', 'Aks', 'Albela', 'Asoka', 'Bas Itna Sa Khwaab Hai', 'Bengal Tiger', 'Bhairav', 'Censor', 'Chandni Bar', 'Chhupa Rustam: A Musical Thriller', 'Chori Chori Chupke Chupke', 'Daman', 'Dattak', 'Deewaanapan', 'Dil Chahta Hai', 'Dil Ne Phir Yaad Kiya', 'Divya Drishti', 'Ehsaas: The Feeling', 'Ek Rishtaa: The Bond of Love', 'Farz', 'Gadar: Ek Prem Katha', 'Grahan', 'Hadh: Life on the Edge of Death', 'Hum Ho Gaye Aapke', 'Indian', 'Ittefaq', 'Jodi No.1', 'Kabhi Khushi Kabhie Gham...', 'Kasam', 'Kasoor', 'Kuch Khatti Kuch Meethi', 'Kyo Kii Main Jhuth Nahin Bolta', 'Lagaan: Once Upon a Time in India', 'Lajja', 'Love Ke Liye Kuchh Bhi Karega', 'Maya', 'Mitti', 'Moksha', 'Mujhe Kucch Kehna Hai', 'Mujhe Meri Biwi Se Bachaao', 'Nayak', 'Officer', 'One 2 Ka 4', 'Paagalpan', 'Pyaar Ishq Aur Mohabbat', 'Pyaar Tune Kya Kiya', 'Pyaar Zindagi Hai', 'Rahul', 'Rehnaa Hai Terre Dil Mein', 'Shirdi Sai Baba', 'Style', 'Tamboo Mein Bamoo', 'Tera Mera Saath Rahen', 'Tum Bin', 'Veer Savarkar', 'Yaadein', 'Yeh Raaste Hain Pyaar Ke', 'Yeh Teraa Ghar Yeh Meraa Ghar', 'Yeh Zindagi Ka Safar', 'Zubeidaa', '16-Dec', '23rd March 1931: Shaheed', 'Aankhen', 'Aap Mujhe Achche Lagne Lage', 'Ab Ke Baras', 'Agni Varsha', 'Akhiyon Se Goli Maare', 'Annarth', 'Ansh: The Deadly Part', 'Awara Paagal Deewana', 'Baaja', 'Be-Lagaam', 'Badhaai Ho Badhaai', 'Bollywood Queen', 'Bomb the System', 'Chalo Ishq Ladaaye', 'Chor Machaaye Shor', 'Company', 'Deewangee', 'Desh Devi', 'Devdas', 'Dil Hai Tumhaara', 'Dil Vil Pyar Vyar', 'Ek Chhotisi Love Story', 'Encounter: The Killing', 'Filhaal', 'Ghaav: The Wound', 'Gunaah', 'Haan Maine Bhi Pyaar Kiya', 'Hathyar', 'Hum Kisise Kum Nahin', 'Hum Pyar Tumhi Se Kar Baithe', 'Hum Tumhare Hain Sanam', 'Humraaz', 'Jaani Dushman: Ek Anokhi Kahani', 'Jang Aur Aman', 'Jeena Sirf Merre Liye', 'Kaante', 'Kabhie Tum Kabhie Hum', 'Karz: The Burden of Truth', 'Kehtaa Hai Dil Baar Baar', 'Kitne Door Kitne Paas', 'Koi Mere Dil Se Poochhe', 'Kranti', 'Kuch Tum Kaho Kuch Hum Kahein', 'Kya Yehi Pyaar Hai', 'Kyaa Dil Ne Kahaa', 'Lal Salaam', 'Maa Tujhhe Salaam', 'Maine Dil Tujhko Diya', 'Makdee', 'Maseeha', 'Mere Yaar Ki Shaadi Hai', 'Mitr, My Friend', 'Mohabbat Ho Gayi Hai Tumse', 'Mujhse Dosti Karoge!', 'Mulaqaat', 'Na Tum Jaano Na Hum', 'Nishad', 'Om Jai Jagadish', 'Pitaah', 'Pyaar Diwana Hota Hai', 'Pyar Ki Dhun', 'Pyaasa', 'Raaz', 'Rishtey', 'Road', 'Saathiya', 'Shaheed-E-Azam', 'Shakti - The Power', 'Shararat', 'Soch', 'Sur: The Melody of Life', 'The Legend of Bhagat Singh', 'Tumko Na Bhool Paayenge', 'Tum Se Achcha Kaun Hai', 'Waah! Tera Kya Kehna', 'Yeh Dil Aashiqanaa', 'Yeh Hai Jalwa', 'Yeh Kaisi Mohabbat', 'Yeh Kya Ho Raha Hai?', 'Yeh Mohabbat Hai', 'Zindagi Khoobsoorat Hai', '3 Deewarein', '88 Antop Hill', 'Aaj Ka Andha Kanoon', 'Aanch', 'Aapko Pehle Bhi Kahin Dekha Hai', 'Aisaa Kyon', 'Andaaz', 'Armaan', 'Baap Ka Baap', 'Baaz: A Bird in Danger', 'Baghban', 'Bas Yun Hi', 'Basti', 'Bhoot', 'Boom', 'Butterfly', 'The Bypass', 'Calcutta Mail', 'Chalte Chalte', 'Chori Chori', 'Chupke Se', 'Chura Liyaa Hai Tumne', 'Dabdaba', 'Danav', 'Darna Mana Hai', 'Dhoop', 'Dhund', 'Dil Ka Rishta', 'Dil Pardesi Ho Gayaa', 'Dum', 'Ek Alag Mausam', 'Ek Aur Ek Gyarah', 'Ek Din 24 Ghante', 'Escape from Taliban', 'Final Solution', 'Footpath', 'Fun2shh... Dudes in the 10th Century', 'Gangaajal', 'Green Card Fever', 'Haasil', 'Hawa', 'Hawayein', 'The Hero: Love Story of a Spy', 'Humein Tumse Pyar Ho Gaya Chupke Chupke', 'Hungama', 'Indian Babu', 'Inteha', 'Ishq Vishk', 'Jaal: The Trap', 'Jajantaram Mamantaram', 'Janasheen', 'Jhankaar Beats', 'Jism', 'Jodi Kya Banayi Wah Wah Ramji', 'Joggers Park', 'Kaash... Hamara Dil Pagal Na Hota', 'Kagaar: Life on the Edge', 'Kahan Ho Tum', 'Kaise Kahoon Ke... Pyaar Hai', 'Kal Ho Naa Ho', 'Kash Aap Hamare Hote', 'Kaya Poochhe Maya Se', 'Khanjar: The Knife', 'Khel \\x96 No Ordinary Game', 'Khushi', 'Khwahish', 'Koi... Mil Gaya', 'Kucch To Hai', 'Kuch Naa Kaho', 'Kyon?', 'Larger Than Life', 'LOC: Kargil', 'Love at Times Square', 'Maa Santoshi Maa', 'Main Madhuri Dixit Banna Chahti Hoon', 'Main Prem Ki Diwani Hoon', 'Market', 'Matrubhoomi', 'Miss India: The Mystery', 'Mudda: The Issue', 'Mumbai Matinee', 'Mumbai Se Aaya Mera Dost', 'Munna Bhai M.B.B.S.', 'Naag Lok', 'Nayee Padosan', 'October', 'Om', 'Oops!', 'Out of Control', 'Paanch', 'Parwana', 'Patth', 'Pehli Nazar Ka Pehla Pyaar: Love at First Sight', 'Pinjar', 'The Pink Mirror', 'Praan Jaye Par Shaan Na Jaye', 'Qayamat: City Under Threat', 'Raghu More: Bachelor of Hearts', 'Raghu Romeo', 'Raja Bhaiya', 'Rasikan Re', 'Right Here, Right Now', 'Rules: Pyaar Ka Superhit Formula', 'Saaya', 'Sala Bandar!', 'Samay: When Time Strikes', 'Sanatta: The Silence', 'Sandhya', 'Satta', 'Satyaghath: Crime Never Pays', 'Shanti', 'Sssshhh...', 'Stumped', 'Supari', 'Surya', 'Tada', 'Taj Mahal: A Monument of Love', 'Talaash: The Hunt Begins...', 'Tareekh', 'Tehzeeb', 'Tere Naam', 'Tu Bal Bramhachari Main Hoon Kanya Kunwari', 'Tujhe Meri Kasam', 'Tumse Milke Wrong Number', 'Valentine Days', 'Waisa Bhi Hota Hai Part II', 'Xcuse Me', 'Yeh Dil', 'Zameen', 'Aabra Ka Daabra', 'Aan: Men at Work', 'Ab... Bas!', 'Ab Tumhare Hawale Watan Saathiyo', 'Aetbaar', 'Agnipankh', 'Aitraaz', 'Asambhav', 'Banana Brothers', 'Bardaasht', 'Chameli', 'Chand Bujh Gaya', 'Charas', 'Deewaar', 'Dev', 'Dhoom', 'Dil Bechara Pyaar Ka Maara', 'Dil Maange More', 'Dil Ne Jise Apna Kahaa', 'Dobara', 'Dukaan', 'Ek Se Badhkar Ek', 'Ek Hasina Thi', 'Fida', 'Garv', 'Gayab', 'Girlfriend', 'Hatya', 'Hava Aney Dey', 'Hawas', 'Hulchul', 'Hum Tum', 'Hyderabad Blues 2', 'I Proud to Be an Indian', 'Insaaf: The Justice', 'Inteqam: The Perfect Game', 'Ishq Hai Tumse', 'Julie', 'Kaun Hai Jo Sapno Mein Aaya', 'Kaya Taran', 'Khakee', 'Khamosh Pani', 'King of Bollywood', 'Kis Kis Ki Kismat', 'Kismat', 'Kiss Kis Ko', 'Krishna Cottage', 'Kyun! Ho Gaya Na...', 'Lakeer \\x96 Forbidden Lines', 'Lakshya', \"Let's Enjoy\", 'Madhoshi', 'Main Hoon Na', 'Maqbool', 'Masti', 'Meenaxi: A Tale of Three Cities', 'Meri Biwi Ka Jawaab Nahin', 'Mughal-e-Azam (Colorized Version)', 'Mujhse Shaadi Karogi', 'Murder', 'Musafir', 'Muskaan', 'Naach', 'Netaji Subhas Chandra Bose: The Forgotten Hero', 'Nothing but Life', 'Paap', 'Paisa Vasool', 'Phir Milenge', 'Plan', 'Police Force: An Inside Story', 'Popcorn Khao! Mast Ho Jao', 'Raincoat', 'Rakht', 'Rok Sako To Rok Lo', 'Rudraksh', 'Run', 'Shaadi Ka Laddoo', 'Shart: The Challenge', 'Sheen', 'Shikhaar', 'Shukriya: Till Death Do Us Apart', 'Silence Please...The Dressing Room', 'Stop!', 'Suno Sasurjee', 'Swades', 'Taarzan: The Wonder Car', 'Thoda Tum Badlo Thoda Hum', 'Tumsa Nahin Dekha: A Love Story', 'Uff Kya Jaadoo Mohabbat Hai', 'Vaastu Shastra', 'Veer-Zaara', 'Wajahh: A Reason to Kill', \"Where's the Party Yaar?\", 'Woh', 'Yeh Lamhe Judaai Ke', 'Yehi Hai Zindagi', 'Yuva', '7½ Phere', '99.9 FM,', 'Aashiq Banaya Aapne', 'Amavas', 'Apaharan', 'Bachke Rehna Re Baba', 'Barsaat', 'Bewafaa', 'Bhagmati', 'Bhola in Bollywood', 'Black', 'Blackmail', 'Bluffmaster!', 'Brides Wanted', 'Bullet: Ek Dhamaka', 'Bunty Aur Babli', 'Chaahat \\x96 Ek Nasha', 'Chand Sa Roshan Chehra', 'Chausar', 'Chehraa', 'Chetna: The Excitement', 'Chocolate', 'Chor Mandi', 'Classic \\x96 Dance of Love', 'D', 'Dansh', 'Deewane Huye Paagal', 'Dil Jo Bhi Kahey...', 'Dosti: Friends Forever', 'Double Cross - Ek Dhoka', 'Dreams', 'Dus', 'Ek Ajnabee', 'Ek Khiladi Ek Haseena', 'Elaan', 'Fareb', 'Film Star', 'Fun \\x96 Can Be Dangerous Sometimes', 'Garam Masala', 'Hanuman', 'Hazaaron Khwaishein Aisi', 'Home Delivery', 'Hum Dum', 'Insan', 'Iqbal', 'Jackpot', 'Jai Chiranjeeva', 'Jalwa - Fun in Love', 'James', 'Jo Bole So Nihaal', 'Jurm', 'Kaal', 'Kalyug', 'Karam', 'Kasak', 'Khamoshh... Khauff Ki Raat', 'Kisna: The Warrior Poet', 'Koi Aap Sa', 'Koi Mere Dil Mein Hai', 'Kuchh Meetha Ho Jaye', 'Kyaa Kool Hai Hum', 'Kyon Ki', 'Lucky: No Time for Love', 'Main Aisa Hi Hoon', 'Main, Meri Patni Aur Woh', 'Maine Gandhi Ko Nahin Mara', 'Maine Pyaar Kyun Kiya?', 'Mangal Pandey: The Rising', 'Mashooka', 'Mazaa Mazaa', 'Men Not Allowed', 'Morning Raga', 'Mr Ya Miss', 'Mr Prime Minister', 'Mumbai Xpress', 'Mumbai Godfather', 'My Brother... Nikhil', \"My Wife's Murder\", 'Naam Gum Jaayega', 'Naina', \"Neal 'n' Nikki\", 'Nigehbaan', 'No Entry', 'Padmashree Laloo Prasad Yadav', 'Page 3', 'Pehchaan: The Face of Truth', 'Paheli', 'Parineeta', 'Pyaar Mein Twist', 'Ramji Londonwale', 'Revati', 'Rog', 'Saathi: The Companion', 'Salaam Namaste', 'Sarkar', 'Sauda - The Deal', 'Sehar', 'Shaadi No. 1', 'Shabd', 'Shabnam Mausi', 'Sheesha', 'Shikhar', 'Silsiilay', 'Sitam', 'Socha Na Tha', 'Ssukh', 'Taj Mahal: An Eternal Love Story', 'Tango Charlie', 'Tezaab', 'The Film', 'Time Pass', 'Topless', 'U, Bomsi n Me', 'Vaada', 'Vaah! Life Ho Toh Aisi!', 'Vidyaarthi', 'Viruddh... Family Comes First', 'Waqt: The Race Against Time', 'Yahaan', 'Yakeen', 'Zameer: The Fire Within', 'Zeher', '36 China Town', 'Aap Ki Khatir', 'Aatma', 'Adharm', 'Ahista Ahista', 'Aisa Kyon Hota Hai?', 'Aksar', 'Alag', 'Anjaan', 'Ankahee', 'Anthony Kaun Hai?', 'Apna Sapna Money Money', 'Aryan: Unbreakable', 'Baabul', 'Banaras', 'Bas Ek Pal', 'Being Cyrus', 'Bhagam Bhag', 'Bhoot Unkle', 'Chand Ke Paar Chalo', 'Chingaari', 'Chup Chup Ke', 'Corporate', 'Darna Zaroori Hai', 'Darwaaza Bandh Rakho', 'Deadline: Sirf 24 Ghante', 'Devaki', 'Dharti Kahe Pukar Ke', 'Dhoom 2', 'Dil Diya Hai', 'Don', 'Dor', 'Dulha Babu', 'Eight: The Power of Shani', 'Ek Main Ek Tum', 'Family', 'Fanaa', 'Fight Club \\x96 Members Only', 'Gangster', 'Golmaal: Fun Unlimited', 'Haseena', 'Holiday', 'Humko Deewana Kar Gaye', 'Humko Tumse Pyaar Hai', 'Iqraar by Chance', 'I See You', 'Jaane Hoga Kya', 'Jaadu Sa Chal Gaya', \"Jaana - Let's Fall In Love\", 'Jaan-E-Mann', 'Jawani Diwani', 'Jigyaasa', 'Kabul Express', 'Kabhi Alvida Naa Kehna', 'Khosla Ka Ghosla', 'Krishna', 'Krrish', 'Kudiyon Ka Hai Zamana', 'Lady Chatterjee - Sawan Dutta', 'Lage Raho Munna Bhai', 'Love Ke Chakkar Mein', 'Madhubaala', 'Malamaal Weekly', 'Mere Jeevan Saathi', 'Meri Jung', 'Mirza Sahiba', 'Mobile Phone', 'Mr 100% - The Real Player', 'Naksha', 'Omkara', 'Phir Hera Pheri', 'Prateeksha', 'Pyaar Ke Side Effects', 'Pyare Mohan', 'Rafta Rafta', 'Rang De Basanti', 'Rehguzar - The Road to Destiny', 'Rocky', 'Saawan... The Love Season', 'Sacred Evil \\x96 A True Story', 'Salaam Bacche', 'Sandwich', 'Sarhad Paar', 'Shaadi Karke Phas Gaya Yaar', 'Shaadi Se Pehle', 'Shiva', 'Souten: The Other Woman', 'Strings - Bound By Faith', 'Sun Zara', 'Tathastu', 'Taxi No. 9211', 'Teesri Aankh: The Hidden Camera', 'The Killer', 'The Real Dream Girls', 'Tom Dick And Harry', 'Umar', 'Umrao Jaan', 'Unns...Means Love', 'Utthaan', 'Vivah', 'Waris Shah: Ishq Daa Waaris', 'Woh Lamhe...', 'Yun Hota Toh Kya Hota', 'Zinda', 'Zindaggi Rocks', '1971', '50 Lakh', '68 Pages', 'Aag', 'Aaja Nachle', 'Aap Kaa Surroor', 'Aggar', 'Anjaam', 'Anwar', 'Apna Asmaan', 'Apne', 'Aur Pappu Paas Ho Gaya', 'Awarapan', 'Bal Ganesh', 'Benaam', 'Bheja Fry', 'Bhool Bhulaiyaa', 'Bhram', 'Big Brother', 'Black Friday', 'Blood Brothers', 'The Blue Umbrella', 'Bombay to Goa ', 'Buddha Mar Gaya', 'Cash', 'Chak De! India', 'Chanchal', 'Cheeni Kum', 'Chhodon Naa Yaar', 'Chooriyan', 'Cocktail: The Deadly Combination', 'Darling', 'Delhii Heights', 'Dhamaal', 'Goal', 'Dharm', 'Dhokha', 'Dhol', 'Dil Dosti Etc', \"Don't Stop Dreaming\", 'Dus Kahaniyaan', 'Ek Chalis Ki Last Local', 'Eklavya: The Royal Guard', 'Familywala', 'Fool & Final', 'Gandhi, My Father', 'Gangotri', 'Gauri: The Unborn', 'Go', 'Good Boy, Bad Boy', 'Guru', 'Har Pal', 'Hastey Hastey', 'Hattrick', 'Heyy Babyy', 'Honeymoon Travels Pvt. Ltd.', 'Jab We Met', 'Jahan Jaaeyega Hamen Paaeyega', 'Jhoom Barabar Jhoom', 'Johnny Gaddaar', 'Just Married', 'Kaafila', 'Khoya Khoya Chand', 'Kya Love Story Hai', 'Laaga Chunari Mein Daag', 'Life in a... Metro', 'Life Mein Kabhie Kabhiee', 'Loins of Punjab Presents', 'Manorama Six Feet Under', 'Marigold', 'MP3: Mera Pehla Pehla Pyaar', 'Mumbai Salsa', 'My Bollywood Bride', 'Namastey London', 'The Namesake', 'Nanhe Jaisalmer', 'Naqaab', 'Nehlle Pe Dehlla', 'Nishabd', 'No Smoking', 'Oh My Anand', 'Om Shanti Om', 'Partner', 'Raqeeb', 'Red: The Dark Side', 'Red Swastik', 'Risk', 'Salaam-e-Ishq: A Tribute to Love', 'Saawariya', 'Sambar Salsa', 'Say Salaam India', 'Shakalaka Boom Boom', 'Shootout at Lokhandwala', 'Showbiz', 'Speed', 'Strangers', 'Sunglass', 'Swami', 'Ta Ra Rum Pum', 'Taare Zameen Par', 'Traffic Signal', 'The Train', 'Victoria No. 203', 'Welcome', 'Yatra', 'Zamaanat', 'Humne Jeena Seekh Liya', 'Rama Rama Kya Hai Dramaa?', 'Halla Bol', 'Bombay to Bangkok', 'Tulsi', 'Sunday', 'Superstar', 'Jodhaa Akbar', 'Black & White', 'Race', 'One Two Three', 'Shaurya', 'Krazzy 4', 'U Me Aur Hum', 'Pehli Nazar Ka Pyaar', 'Sirf', 'Tashan', 'Mr. Black Mr. White', 'Anamika', 'Jimmy', 'Bhoothnath', 'Jannat', 'Don Muthu Swami', 'Ghatothkach', 'Woodstock Villa', 'Aamir', 'Sarkar Raj', 'Mere Baap Pehle Aap', 'Summer 2007', 'De Taali', 'Haal-e-Dil', 'Thoda Pyaar Thoda Magic', 'Thodi Life Thoda Magic', 'Via Darjeeling', 'Jaane Tu... Ya Jaane Na', 'Love Story 2050', 'Mehbooba', 'Kismat Konnection', 'Contract', 'Mission Istaanbul', 'Money Hai Toh Honey Hai', 'Ugly Aur Pagli', 'Good Luck!', 'Singh Is Kinng', 'Bachna Ae Haseeno', 'God Tussi Great Ho', 'Phoonk', 'Mumbai Meri Jaan', 'Maan Gaye Mughal-e-Azam', 'Rock On!!', 'C Kkompany', 'Chamku', 'Mukhbiir', 'A Wednesday!', 'Tahaan', '1920', 'The Last Lear', 'Welcome to Sajjanpur', 'Saas Bahu Aur Sensex', 'Hari Puttar: A Comedy of Terrors', 'Kidnap', 'Drona', 'Hello', 'Karzzzz', 'Heroes', 'Roadside Romeo', 'Golmaal Returns', 'Fashion', 'EMI - Liya Hai Toh Chukana Parega', 'Ek Vivaah... Aisa Bhi', 'Dostana', 'Dasvidaniya', 'Deshdrohi', 'Yuvvraaj', 'Gumnaam \\x96 The Mystery', 'Oye Lucky! Lucky Oye!', 'Sorry Bhai!', 'Maharathi', 'Dil Kabaddi', 'Meerabai Not Out', 'Oh, My God', 'Rab Ne Bana Di Jodi', 'Wafaa', 'Ghajini', 'Jumbo', 'Chandni Chowk to China', 'Aasma: The Sky Is the Limit', 'Raaz: The Mystery Continues', 'Luck by Chance', 'Victory', 'Dev.D', 'Chal Chala Chal', 'Mere Khwabon Mein Jo Aaye', 'Billu', 'The Stoneman Murders', 'Delhi-6', 'Kisse Pyaar Karoon', '13B\\n', 'Dhoondte Reh Jaaoge\\n', 'Karma Aur Holi\\n', 'Jai Veeru\\n', 'Little Zizou\\n', 'Gulaal\\n', 'Aloo Chaat\\n', 'Barah Aana\\n', 'Firaaq\\n', 'Lottery\\n', 'Straight\\n', 'Aa Dekhen Zara\\n', '99\\n', 'Ek: The Power of One\\n', '8 x 10 Tasveer', 'Ek Se Bure Do', 'Pal Pal Dil Ke Saath', 'Coffee House', 'School Days', 'Royal Utsav', 'Chowrasta Crossroads of Love', 'Meri Padosan', 'Sikandar', 'Sanam Teri Kasam', 'Team - The Force', 'Kal Kissne Dekha', 'Zor Lagaa Ke...Haiya!', \"Let's Dance\", 'Paying Guests', 'New York', 'Kambakkht Ishq', 'Sankat City', 'Shortkut', 'Jashnn', 'Luck', 'Love Aaj Kal', 'Agyaat', 'Chal Chalein', 'Teree Sang', 'Kaminey', 'Life Partner', 'Phir Kabhi', 'Daddy Cool', 'Kisaan', 'Love Khichdi', 'Quick Gun Murugun', 'Toss', 'Yeh Mera India', 'Three: Love, Lies, Betrayal', 'Aagey Se Right', 'Chintu Ji', 'Fox', 'Aamras', 'Baabarr', 'Vaada Raha', 'Dil Bole Hadippa!', 'Wanted', 'Blue Oranges', \"What's Your Raashee?\", 'Do Knot Disturb', 'Wake Up Sid', 'Acid Factory', 'All the Best: Fun Begins', 'Blue', 'Main Aurr Mrs Khanna', 'Bal Ganesh 2', 'Fruit and Nut', 'Love Ka Tadka', 'London Dreams', 'Aladin', 'Ajab Prem Ki Ghazab Kahani', 'Jail', 'Tum Mile', 'Aao Wish Karein', 'Kurbaan', 'Shaabash! You Can Do It', 'Marega Salaa', 'De Dana Dan ', 'Radio\\n', 'Paa\\n', 'Rocket Singh: Salesman of the Year\\n', 'Raat Gayi, Baat Gayi?\\n', '3 Idiots\\n', 'Accident on Hill Road\\n', 'Dulha Mil Gaya', 'Pyaar Impossible!', 'Chance Pe Dance', 'Veer', 'Ishqiya', 'Rann', 'Road to Sangam', 'The Hangman', 'Striker', 'My Name Is Khan', 'Sukhmani: Hope for Life', 'Aakhari Decision', 'Click', 'Toh Baat Pakki!', 'Karthik Calling Karthik', 'Teen Patti', 'Atithi Tum Kab Jaoge?', 'Hello Zindagi', 'Road, Movie', 'Rokkk', 'Thanks Maa', 'Do Dilon Ke Khel Mein', 'Hide & Seek', 'Na Ghar Ke Na Ghaat Ke', 'Right Yaaa Wrong', 'Trump Card', 'Idiot Box', 'Lahore', 'Love Sex Aur Dhokha', 'Shaapit', 'Hum Tum Aur Ghost', \"It's a Man's World\", 'Mittal v/s Mittal', 'My Friend Ganesha 3', 'Prem Kaa Game', 'Well Done Abba', 'Pankh', 'Sadiyaan', 'Tum Milo Toh Sahi', 'Jaane Kahan Se Aayi Hai', \"Prince - It's Showtime!\", 'The Japanese Wife', 'Paathshaala', 'Phoonk 2', 'Apartment', 'Bird Idol', 'City of Gold', 'Kuchh Kariye', 'Muskurake Dekh Zara', 'Chase', 'Housefull', 'Badmaash Company', \"It's a Wonderful Afterlife\", 'Admissions Open', 'Bumm Bumm Bole', 'Kushti', 'Kites', 'Raajneeti', 'Ek Second... Jo Zindagi Badal De?', 'Raavan', 'Krantiveer - The Revolution', 'Mr. Singh Mrs. Mehta', 'I Hate Luv Storys', 'Milenge Milenge', 'Red Alert: The War Within', 'Lamhaa', 'Tere Bin Laden', 'Udaan', 'Khatta Meetha', 'Once Upon a Time in Mumbaai', 'Aisha', 'Help', 'Peepli Live', 'Lafangey Parindey', 'Mr. Bhatti on Chutti', 'Hello Darling', 'Antardwand', 'Aashayein', 'Soch Lo', 'We Are Family', 'Mallika', 'The Film Emotional Atyachar', 'Dabangg', 'Anjaana Anjaani', 'Khichdi: The Movie', 'Crook', 'Do Dooni Chaar', 'Aakrosh', 'Pusher', 'Knock Out', 'Kajraare', 'Ramayana: The Epic', 'Hisss', 'Jhootha Hi Sahi', 'Rakta Charitra', 'Dunno Y... Na Jaane Kyon', 'Maalik Ek', 'Nakshatra', 'Golmaal 3', 'Action Replayy', 'A Flat', 'Ramaa: The Saviour', 'Guzaarish', 'Shahrukh Bola \"Khoobsurat Hai Tu\"', 'Diwangi Ne Had Kar Di', 'Allah Ke Banday', 'Break Ke Baad', 'Khuda Kasam', 'Khelein Hum Jee Jaan Sey', 'Phas Gaye Re Obama', 'Rakta Charitra 2', 'Band Baaja Baaraat', 'No Problem', '332 Mumbai to India', 'Payback', 'Kaalo', 'Mirch', 'Tees Maar Khan', 'Isi Life Mein...!', 'Toonpur Ka Super Hero', 'Tera Kya Hoga Johnny', 'Ada... A Way of Life', 'No One Killed Jessica', 'Impatient Vivek', 'Yamla Pagla Deewana', 'Turning 30!!!', 'Mumbai Mast Kallander', 'Odyssey of Persistence', 'Dhobi Ghat', 'Hostel', 'Dil Toh Baccha Hai Ji', 'Yeh Saali Zindagi', 'United Six', 'Utt Pataang', 'Patiala House', 'Angel', 'Aashiqui.in', '7 Khoon Maaf', 'Kaccha Limbo', 'Masti Express', 'Tanu Weds Manu', 'Satrangee Parachute', 'Yeh Faasley', 'Happy Husbands', 'Monica', 'Game', 'F.A.L.T.U', 'Memories in March', 'Thank You', 'Teen Thay Bhai', 'Dum Maaro Dum', 'Zokkomon', 'Shor in the City', 'Chalo Dilli', 'I Am', 'Naughty @ 40', 'Luv Ka The End', 'Haunted \\x96 3D', 'Love U...Mr. Kalakaar!', 'Ragini MMS', 'Shagird', 'Stanley Ka Dabba', '404', 'Pyaar Ka Punchnama', 'Kucch Luv Jaisaa', 'Ready', 'Shaitan', 'Bheja Fry 2', 'Always Kabhi Kabhi', 'Bhindi Baazaar Inc.', 'Bin Bulaye Baraati', 'Double Dhamaal', 'Bbuddah... Hoga Terra Baap', 'Delhi Belly', 'Murder 2', 'Chillar Party', 'Zindagi Na Milegi Dobara', 'Singham', 'Khap', 'Gandhi to Hitler', 'Bubble Gum', 'Chala Mussaddi... Office Office', 'I Am Kalam', 'Milta Hai Chance By Chance', 'Warning', 'Aarakshan', 'Phhir', 'Chatur Singh Two Star', 'Not a Love Story', 'Sahi Dhandhe Galat Bande', 'Chitkabrey \\x96 Shades of Grey', 'Shabri', 'Yeh Dooriyan', 'Bodyguard', 'Mummy Punjabi', 'That Girl in Yellow Boots', 'Mere Brother Ki Dulhan', 'Rivaaz', 'Mausam', 'Speedy Singhs', 'U R My Jaan', 'Force', 'Hum Tum Shabana', 'Saheb, Biwi Aur Gangster', 'Tere Mere Phere', 'Chargesheet', 'Na Jaane Kabse hum hi', 'Rascals', 'Love Breakups Zindagi', 'Mujhse Fraaandship Karoge', 'My Friend Pinto', 'Aazaan', 'Ra.One', 'Tell Me O Kkhuda', 'Damadamm!', 'Loot', 'Miley Naa Miley Hum', 'Rockstar', 'Shakal Pe Mat Ja', 'Desi Boyz', 'The Dirty Picture', 'Ladies vs Ricky Bahl', 'Jo Hum Chahein', 'Don 2', 'Players', 'Chaalis Chauraasi 4084', 'Ghost', 'Sadda Adda', 'Agneepath', 'Gali Gali Chor Hai', 'Staying Alive', 'Love You To Death', 'Ek Main Aur Ekk Tu', \"Valentine's Night\", 'Ekk Deewana Tha', '?: A Question Mark', 'Married 2 America', 'Jodi Breakers', 'Tere Naal Love Ho Gaya', 'London, Paris, New York', 'Paan Singh Tomar', 'Will You Marry Me?', 'Kahaani', 'Chaar Din Ki Chandni', 'Say Yes to Love', 'Akkad Bakkkad Bam Be Bo', 'Zindagi Tere Naam', 'Blood Money', 'Agent Vinod', 'Bumboo', 'Housefull 2', 'Bittoo Boss', 'Vicky Donor', 'Ab Hoga Dharna Unlimited', 'Hate Story', 'Chhodo Kal Ki Baatein', 'Tezz', 'Life Ki Toh Lag Gayi', 'Jannat 2', 'Fatso!', 'The Forest', 'Love, Lies & Seeta', 'Dangerous Ishq', 'Chhota Bheem And The Curse Of Damyaan', 'Ishaqzaade', 'Department', 'Arjun: The Warrior Prince', 'MLA', 'Rakhtbeej', 'Yeh Khula Aasmaan', 'Love, Wrinkle-free', 'Rowdy Rathore', 'Shanghai', 'Qasam Se Qasam Se', 'Ferrari Ki Sawaari', 'Teri Meri Kahaani', 'Gangs of Wasseypur', 'Maximum', 'Bol Bachchan', '3 Bachelors', 'Cocktail', 'Gattu', 'Challo Driver', 'Mere Dost Picture Abhi Baki Hai', 'Kyaa Super Kool Hain Hum', 'Aalaap', 'Overtime', 'Jism 2', 'Krishna Aur Kans ', 'Gangs of Wasseypur \\x96 Part 2', 'Paanch Ghantey Mien Paanch Crore', 'Ek Tha Tiger', 'Shirin Farhad Ki Toh Nikal Padi', 'Joker', 'Jalpari: The Desert Mermaid', 'From Sydney with Love', 'I M 24', 'Raaz 3: The Third Dimension', 'Chal Pichchur Banate Hain', 'Barfi!', 'Jeena Hai Toh Thok Daal', 'Heroine', 'Kamaal Dhamaal Malamaal', 'OMG \\x96 Oh My God!', 'English Vinglish', 'Kismet Love Paisa Dilli', 'Aiyyaa', 'Login', 'Chittagong', 'Delhi Safari', 'Bhoot Returns', 'Student of the Year', 'Chakravyuh', 'Ajab Gazabb Love', 'Rush', 'Luv Shuv Tey Chicken Khurana', '1920: The Evil Returns', 'Ata Pata Laapata', 'Sons of Ram', 'Future To Bright Hai Ji', 'Jab Tak Hai Jaan', 'Son Of Sardaar', 'Talaash: The Answer Lies Within', 'Khiladi 786', 'Cigarette Ki Tarah', 'Dabangg 2', 'Table No. 21', 'Dehraadun Diary', 'Meri Shadi Karao', 'Matru Ki Bijlee Ka Mandola', 'Pyaar Mein Aisa Hota Hai', 'Gangoobai', 'Inkaar', 'Mumbai Mirror', 'Bandook', 'Race 2', 'Akaash Vani', 'Main Krishna Hoon', 'David', 'Vishwaroopam', 'Mai...', 'Listen... Amaya', 'Special 26', 'ABCD: Any Body Can Dance\\n', 'The Unsound', 'Jayantabhai Ki Luv Story', 'Murder 3', 'Kai Po Che!', 'Zila Ghaziabad', 'I, Me Aur Main', 'Bloody Isshq', 'Saheb, Biwi Aur Gangster Returns', 'Saare Jahaan Se Mehnga', '3G', 'Mere Dad Ki Maruti', 'Jolly LLB', 'Rangrezz', 'The Adventures of Sinbad', 'Himmatwala', 'Chashme Baddoor', 'Nautanki Saala', 'Commando: A One Man Army', 'Ek Thi Daayan', 'Aashiqui 2', 'Shree', 'Shootout at Wadala', 'Bombay Talkies', 'Chhota Bheem and the Throne of Bali', 'Go Goa Gone', 'Gippi', 'Aurangzeb', \"I Don't Luv U\", 'Beehad - The Ravines', 'Ishkq in Paris', 'Hum Hai Raahi Car Ke', 'Zindagi 50-50', 'Yeh Jawaani Hai Deewani', 'Yamla Pagla Deewana 2', 'Fukrey', 'Ankur Arora Murder Case', 'Raanjhanaa', 'Enemmy', 'Shortcut Romeo', 'Ghanchakkar', 'Lootera', 'Policegiri', 'Bhaag Milkha Bhaag', 'Sixteen', 'B.A. Pass', 'Boyss Toh Boyss Hain', 'Ramaiya Vastavaiya', 'D Day', 'Ship of Theseus', 'Issaq', 'Bajatey Raho', 'Luv U Soniyo', 'Nasha', 'Rabba Main Kya Karoon', 'Chor Chor Super Chor', 'Calapor', 'Love in Bombay', 'Chennai Express', 'Once Upon Ay Time In Mumbai Dobaara!', 'Madras Cafe', 'Satyagraha', 'Zanjeer', 'Shuddh Desi Romance', 'Siddharth', 'Grand Masti', 'John Day', 'Horror Story', 'Phata Poster Nikhla Hero', 'The Lunchbox', 'Maazii', 'Prague', 'Super Model', 'War Chhod Na Yaar', 'Baat Bann Gayi', 'Ek Thee Sanam', 'Paapi - Ek Satya Katha', 'Boss', 'Shahid', 'Wake Up India', 'Amdavad Junction', 'Dilli Gang', 'Mickey Virus', 'Ishk Actually', 'Sooper Se Ooper', 'Krrish 3', 'Satya 2', 'Rajjo', 'Goliyon Ki Raasleela Ram-Leela', 'Gori Tere Pyaar Mein', 'Singh Saab The Great', 'Bullett Raja', 'R... Rajkumar', 'What the Fish', 'Dhoom 3', 'Mr Joe B. Carvalho', 'Sholay 3D', 'Dedh Ishqiya', 'Yaariyan', 'Karle Pyaar Karle', 'Miss Lovely', 'Om-Dar-B-Dar', 'Paranthe Wali Gali', 'Strings of Passion', 'Jai Ho', 'One by Two', 'Babloo Happy Hai', 'Hasee Toh Phasee', 'Heartless', 'Ya Rab', 'Gunday', 'Kaho Na Kaho', 'Darr @ the Mall', 'Dee Saturday Night', 'Gulabi Gang', 'Highway', 'Karar: The Deal', 'Pyar Ka Live Show', 'The Dark Secrets Of Tonhi', 'Anuradha', 'Shaadi Ke Side Effects', 'Gulaab Gang', 'Queen', 'Total Siyapaa', 'Bewakoofiyaan', 'Neighbours', 'W', 'Ankhon Dekhi', 'Gang of Ghosts', 'Lakshmi', 'Ragini MMS 2', 'Dishkiyaoon', 'O Teri', 'Station', 'Youngistaan', 'Ebn-E-Batuta', 'Honour Killing', 'Jal', 'Main Tera Hero', 'Bhoothnath Returns', '2 States', 'Dekh Tamasha Dekh', 'Lucky Kabootar', 'Kaanchi: The Unbreakable', 'Revolver Rani', 'Samrat & Co.', 'Purani Jeans', 'Kya Dilli Kya Lahore', 'Angry Young Man', 'Kahin Hai Mera Pyar', 'Hawaa Hawaai', 'Khwaabb', 'Koyelaanchal', 'Manjunath', 'Mastram', 'Yeh Hai Bakrapur', 'The Xposé', 'Children of War', 'M3 - Midsummer Midnight Mumbai', 'Heropanti', 'CityLights', 'Kuku Mathur Ki Jhand Ho Gayi', 'Filmistaan', 'Holiday: A Soldier Is Never Off Duty', 'Fugly', 'Machhli Jal Ki Rani Hai', 'Humshakals', 'Ek Villain', 'Bobby Jasoos', 'Lekar Hum Deewana Dil', 'Humpty Sharma Ki Dulhania', 'Hate Story 2', 'Bazaar-E-Husn', 'Riyasat', 'Amit Sahni Ki List', 'Pizza', 'Kick', 'Entertainment', 'Singham Returns', 'Life is Beautiful!', 'Mad About Dance', 'Mardaani', 'Mumbhai Connection', 'Raja Natwarlal', 'Mary Kom', 'Creature', 'Finding Fanny', 'Daawat-e-Ishq', 'Khoobsurat', '3 A.M.', 'Chaarfutiya Chhokare', 'Desi Kattey', 'Meinu Ek Ladki Chaahiye', 'Balwinder Singh Famous Ho Gaya', 'Bang Bang!', 'Haider', 'Spark', 'Jigariyaa', 'Ekkees Toppon Ki Salaami', 'Tamanchey', 'Mumbai 125 KM', 'Sonali Cable', 'Happy New Year', 'Fireflies', 'Roar: Tigers of the Sunderbans', 'Super Nani', 'Rang Rasiya', 'A Decent Arrangement', 'The Shaukeens', '6 - 5 = 2', 'Kill Dil', 'Gollu Aur Pappu', 'Happy Ending', 'Titoo MBA', 'Wah Taj', 'Hum Hai Teen Khurafaati', 'Ungli', 'Zed Plus', 'Zid', 'Action Jackson', 'Bhopal: A Prayer for Rain', 'Mumbai Delhi Mumbai', 'Sulemani Keeda', 'Badlapur Boys', 'Life Mein Twist Hai', 'LUV...Phir Kabhie', 'Main Aur Mr. Riight', 'Objection My God', 'Room - The Mystery', 'PK', 'Ugly', 'International Hero', 'Mumbai Can Dance Saala', 'Take It Easy', 'Tevar', 'Alone', 'Crazy Cukkad Family', 'Sharafat Gayi Tel Lene', 'Baby', 'Dolly Ki Doli', 'Chal Guru Ho Ja Shuru', 'Hawaizaada', 'Khamoshiyan: Silences Have Secrets', 'Rahasya', 'Jai Jawaan Jai Kisaan', 'Shamitabh', 'MSG: The Messenger', 'Roy', 'Badlapur', 'Qissa', 'Ab Tak Chhappan 2', 'Dum Laga Ke Haisha', 'Badmashiyaan', 'Coffee Bloom', 'Dirty Politics', 'Hey Bro', 'NH10', 'Dilliwali Zaalim Girlfriend', 'Hunterrr', 'Barkhaa', 'Detective Byomkesh Bakshy', 'Luckhnowi Ishq', 'Dharam Sankat Mein', 'Ek Paheli Leela', 'Court', 'Margarita with a Straw', 'Mr. X', 'NH-8 Road to Nidhivan', 'Ek Adbhut Dakshina Guru Dakshina\\n', 'Ishq Ke Parindey', 'Kaagaz Ke Fools', 'Gabbar is Back', 'Sabki Bajegi Band', 'Kuch Kuch Locha Hai', 'Piku', 'Bombay Velvet', 'Main Hoon Rajinikanth', 'Tanu Weds Manu Returns', 'I Love Desi', 'Ishqedarriyaan', 'P Se PM Tak', 'Welcome 2 Karachi', 'Dil Dhadakne Do', 'Mere Genie Uncle 3D', 'Hamari Adhuri Kahani', 'ABCD 2', 'Miss Tanakpur Haazir Ho ', 'Uvaa', 'Bezubaan Ishq', 'Guddu Rangeela', 'Second Hand Husband', 'I Love NY', 'Thoda Lutf Thoda Ishq', 'Bajrangi Bhaijaan', 'Aisa Yeh Jahaan', 'Masaan', 'Drishyam', 'Bangistan', 'Brothers', 'Gour Hari Dastaan', 'All Is Well', 'Manjhi - The Mountain Man', 'Rolling Dream', 'Kaun Kitney Paani Mein', 'Phantom', 'Welcome Back', 'Hero', 'Sorry Daddy', 'Katti Batti', 'Meeruthiya Gangster', 'MSG-2:The Messenger', 'Kis Kisko Pyaar Karoon', 'Calendar Girls', 'Bhaag Johnny', 'Time Out', 'Mumbhaii - The Gangster', 'Singh Is Bliing', 'Talvar', 'Jazbaa', 'Bumper Draw', 'Chinar Daastaan-E-Ishq', 'Pyaar Ka Punchnama 2', 'Wedding Pullav', 'Shaandaar', 'Titli', 'Main Aur Charles', 'Once Upon A Time In Bihar', 'Guddu Ki Gun\\n', 'Love Exchange', 'Prithipal Singh... A Story', 'Four Pillars of Basement', 'Charlie Kay Chakkar Mein', 'Yaara Silly Silly', 'Ranbanka\\n', 'Prem Ratan Dhan Payo', 'X', 'Angry Indian Goddesses', 'Tamasha', 'Hate Story 3', 'Kajarya', 'The Silent Heroes', 'Bajirao Mastani', 'Dilwale', 'Monsoon Shootout', 'Wazir', 'Chalk n Duster', 'Rebellious Flower', 'Airlift', 'Jugni', 'Kyaa Kool Hain Hum 3', 'Saala Khadoos', 'Mastizaade', 'Ghayal Once Again', 'Fitoor', 'Sanam Re', 'Direct Ishq', 'Ishq Forever', 'LoveShhuda', 'Neerja', 'Dhara 302', 'Aligarh\\n', 'Bollywood Diaries', 'Love Shagun', 'Tere Bin Laden: Dead or Alive', 'Zubaan', 'Jai Gangaajal', 'Global Baba', 'Teraa Surroor', 'OK Mein Dhokhe', 'Kapoor & Sons', 'Rocky Handsome', 'Ki & Ka', 'Love Games', 'The Blueberry Hunt', 'Kaafiron Ki Namaaz', 'Fan', 'Nil Battey Sannata', 'Laal Rang', 'Santa Banta Pvt Ltd', 'Shortcut Safari', 'One Night Stand', 'Traffic', '1920 London', 'Murari the Mad Gentleman', 'Azhar', 'Buddha in a Traffic Jam', 'Khel Toh Ab Shuru Hoga', 'Dear Dad', 'Kaptaan', 'Sarbjit', 'Phobia', 'Veerappan', 'Fredrick', 'Waiting', 'Housefull 3', 'Do Lafzon Ki Kahani', 'Dhanak', 'Te3n', 'Udta Punjab', 'Luv U Alia', 'Raman Raghav 2.0', 'Junooniyat', '7 Hours To Go', 'A Scandall', 'Rough Book', 'Shorgul', 'Dil Toh Deewana Hai', 'Sultan', 'Brahman Naman', 'Great Grand Masti', 'Madaari', 'Ishq Click', 'M Cream', 'Dishoom', 'Love Ke Funday', 'The Legend of Michael Mishra', 'Fever', 'Hai Apna Dil Toh Awara', 'Mohenjo Daro', 'Rustom', 'Happy Bhaag Jayegi', 'Waarrior Savitri', 'A Flying Jatt', 'Akira', 'Yea Toh Two Much Ho Gayaa', 'Island City', 'Baar Baar Dekho', 'Freaky Ali', 'Ek Kahani Julie Ki', 'Raaz Reboot', 'Pink', 'Parched', 'Banjo', 'Days of Tafree', 'M.S. Dhoni: The Untold Story', 'Mirzya', 'MSG: The Warrior Lion Heart\\n', 'Tutak Tutak Tutiya', 'Anna ', 'Motu Patlu: King Of Kings', 'Beiimaan Love', 'Saat Uchakkey', 'Fuddu', 'Aakhir Kab Tak', '[LOVE DAY pyaar Ka din]', 'Umrika', '31st October', 'Shivaay', 'Ae Dil Hai Mushkil', 'Chaar Sahibzaade: Rise of Banda Singh Bahadur', 'Dongari Ka Raja', 'Ishq Junoon', 'Rock On 2', 'Tum Bin 2', 'Force 2', 'Dear Zindagi\\n', 'Saansein', 'Moh Maya Money\\n', 'Kahaani 2', 'Befikre', 'Wajah Tum Ho', 'Dangal', 'Haraamkhor', 'Ok Jaanu', 'Coffee with D', 'Kaabil', 'Raees', 'Hind Ka Napak Ko Jawab: MSG Lion Heart 2', 'Jolly LLB 2', 'U, Me Aur Ghar', 'Runningshaadi.com', 'The Ghazi Attack', 'Irada', 'Chauhar', 'Rangoon', 'Wedding Anniversary', 'Mona Darling', 'Commando 2', 'Jeena Isi Ka Naam Hai', 'Badrinath Ki Dulhania', 'Aa Gaya Hero', 'Trapped', 'Mantra', 'Machine', 'Phillauri', 'Bhanwarey', 'Anaarkali', 'Naam Shabana', 'Poorna: Courage Has No Limit', 'Laali Ki Shaadi Mein Laaddoo Deewana', 'Mirza Juuliet', 'Mukti Bhawan', 'Begum Jaan', 'Romeo-N-Bullet', 'Noor', 'Ek Thi Rani Aisi Bhi', 'Maatr', 'Ajab Singh Ki Gajab Kahani', 'Mantostaan', 'Meri Pyaari Bindu', 'Sarkar 3', 'Half Girlfriend', 'Jattu Engineer', 'Hindi Medium', 'Chakallaspur', 'Sachin: A Billion Dreams', 'Thodi Thodi Si Manmaaniyan', 'A Death in the Gunj', \"Hanuman: Da' Damdaar\", 'Sweetiee Weds NRI', 'Dobaara: See Your Evil', 'Flat 211', 'Dear Maya', 'Raabta', 'Behen Hogi Teri', 'Love You Family', 'G Kutta Se', 'Bank Chor', 'Tubelight', 'Ek Haseena Thi Ek Deewana Tha', 'Mom', 'Guest Iin London', 'Jagga Jasoos', 'Shab', 'Lipstick Under My Burkha', 'Munna Michael', 'Raag Desh\\xa0: Birth Of A Nation', 'Indu Sarkar', 'Mubarakan', 'Gurgaon', 'Jab Harry Met Sejal', 'Toilet: Ek Prem Katha', 'Partition: 1947', 'Bareilly Ki Barfi', 'A Gentleman', 'Babumoshai Bandookbaaz', 'Yadvi \\x96 The Dignified Princess', 'Qaidi Band', 'Baadshaho\\n', 'Shubh Mangal Savdhan', 'Poster Boys', 'Daddy', 'Simran', 'Lucknow Central', 'Patel Ki Punjabi Shaadi', 'Newton', 'Bhoomi', 'The Final Exit', 'JD', 'Haseena Parkar', 'Judwaa 2', 'Tu Hai Mera Sunday', 'Chef', 'Babuji Ek Ticket Bambai', 'Main Terrorist Nahi Hoon', 'Ranchi Diaries', 'Secret Superstar', 'Golmaal Again', 'Jia aur Jia', 'Rukh', 'The House Next Door', 'Ribbon', 'Shaadi Mein Zaroor Aana', 'Qarib Qarib Singlle', 'The Window', 'Aksar 2\\n', 'Panchlait', 'Tumhari Sulu', 'Dil Jo Na Keh Saka', 'Julie 2', 'Ajji', 'Kadvi Hawa', 'Saankal', 'Tera Intezaar', 'Firangi', 'Fukrey Returns', 'Game Over', 'Sallu ki Shaadi', 'Tiger Zinda Hai', '1921', 'Kaalakaandi', 'Mukkabaaz', 'My Birthday Song', 'Vodka Diaries', 'Nirdosh', 'Union Leader', 'Padmaavat', 'Pad Man', 'Love Per Square Foot', 'Aiyaary', 'Kuchh Bheege Alfaaz', 'Jaane Kyun De Yaaron', 'Sonu Ke Titu Ki Sweety', 'Welcome To New York', 'Pari', 'Veerey Ki Wedding', 'Billu Ustaad', 'Hate Story 4', 'Dil Juunglee', '3 Storeys', 'Note Pe Chot at 8/11', 'Raid', 'Raja Abroadiya', 'Hichki', 'Pareshaan Parinda', 'Baa Baaa Black Sheep', 'Shaadi Teri Bajayenge Hum Band', 'Baaghi 2', 'Missing', 'Mercury', 'Zoo', 'Beyond the Clouds', 'Nanu Ki Jaanu', 'Daas Dev', 'Ishq Tera', 'Our Heroes', '102 Not Out', 'Omerta', 'Raazi', 'The Past', 'Hope Aur Hum', 'Falooda', 'Bhootwali Love Story', 'High Jack', 'Khajoor Pe Atke', 'Parmanu: The Story Of Pokhran', 'One Night Out', 'Bioscopewala', 'Veere Di Wedding', 'Bhavesh Joshi Superhero', 'Phamous', 'Race 3', 'Sanju', 'Soorma', 'When Obama Loved Osama', 'Dhadak', 'Ekta', 'Saheb, Biwi Aur Gangster 3', 'Nawabzaade', 'Fanney Khan', 'Mulk', 'Brij Mohan Amar Rahe!', 'Laxmi and Tikli Bomb', 'Karwaan', 'Gold', 'Satyameva Jayate', 'Happy Phirr Bhag Jayegi', 'Genius', 'Yamla Pagla Deewana: Phir Se', 'Stree', 'Paltan', 'Laila Majnu', 'Gali Guleiyan', 'Halkaa', 'Manmarziyaan', 'Love Sonia', 'Turning Point', 'Bajra vs Burger', 'Kathor', '22 Days', 'Mitron', 'Batti Gul Meter Chalu', 'Manto', 'Ishqeria', 'Sui Dhaaga', 'Pataakha', 'Loveyatri', 'Andhadhun', 'Jalebi', 'Helicopter Eela', 'Maal road dilli', 'FryDay', 'Tumbbad', 'Namaste England', 'Badhaai Ho', 'Baazaar', '5 Weddings', 'Kaashi in Search of Ganga', 'Dassehra', 'The Journey of Karma', 'Lupt', 'Jack and Dil', 'Mausam Ikrar Ke Do Pal Pyaar Ke', 'Thugs of Hindostan', 'Mohalla Assi', 'Pihu', 'Hotel Milan', 'Bhaiaji Superhit', 'Rajma Chawal', 'Kedarnath', 'PK Lele A Salesman', 'Zero', 'Simmba', 'Uri: The Surgical Strike', 'Battalion 609', 'The Accidental Prime Minister', 'Why Cheat India', 'Fraud Saiyaan', 'Soni', '72 Hours: Martyr Who Never Died', 'Bombairiya', 'Rangeela Raja', 'The Lift Boy', 'Thackeray', 'Manikarnika: The Queen of Jhansi', 'Ek Ladki Ko Dekha Toh Aisa Laga', 'The Fakir of Venice', 'Gully Boy', 'Hum Chaar', 'Total Dhamaal', 'Luka Chuppi', 'Sonchiriya', 'Badla', 'Hamid', 'Photograph', 'Milan Talkies', 'Mere Pyare Prime Minister', 'Kesari', 'Mard Ko Dard Nahi Hota', 'Notebook', 'Junglee', 'Romeo Akbar Walter', 'Albert Pinto Ko Gussa Kyun Aata Hai?', 'The Tashkent Files', 'Kalank', 'Blank', 'Setters', 'Student of the Year 2', 'De De Pyaar De', \"India's Most Wanted\", 'PM Narendra Modi', 'Bharat', 'Khamoshi', 'Kabir Singh', 'Article 15', 'Malaal', 'One Day: Justice Delivered', 'Hume Tumse Pyaar Kitna', 'Super 30', 'Family of Thakurganj', 'Jhootha Kahin Ka', 'Judgementall Hai Kya', 'Arjun Patiala', 'Khandaani Shafakhana', 'Jabariya Jodi', 'Chicken Curry Law', 'Pranaam', 'Batla House', 'Mission Mangal', 'Saaho', 'Chhichhore', 'Dream Girl', 'Section 375', 'The Zoya Factor', 'Pal Pal Dil Ke Paas', 'Prassthanam', 'Jhalki', 'War', 'The Sky Is Pink', 'Lootcase', 'P Se Pyaar F Se Faraar', 'Laal Kaptaan', 'Yaaram', 'Housefull 4', 'Saand Ki Aankh', 'Made In China', 'Bypass Road', 'Marjaavaan', 'Shikara - A Love Letter from Kashmir', 'Bala', 'Pagalpanti', 'Dil Bechara', 'Jawaani Jaaneman', 'Panipat', 'Pati, Patni Aur Woh', 'Mardaani 2', 'Dabangg 3', 'Good News']\n"
     ]
    }
   ],
   "source": [
    "list_of_all_titles = movies_data['Title'].tolist()\n",
    "print(list_of_all_titles)\n"
   ]
  },
  {
   "cell_type": "code",
   "execution_count": 203,
   "id": "0f7a3474",
   "metadata": {},
   "outputs": [
    {
     "data": {
      "text/plain": [
       "2089"
      ]
     },
     "execution_count": 203,
     "metadata": {},
     "output_type": "execute_result"
    }
   ],
   "source": [
    "len(list_of_all_titles)\n"
   ]
  },
  {
   "cell_type": "code",
   "execution_count": 204,
   "id": "66ca74da",
   "metadata": {},
   "outputs": [
    {
     "name": "stdout",
     "output_type": "stream",
     "text": [
      "['Baaghi', 'Baaghi 2', 'Baghban']\n"
     ]
    }
   ],
   "source": [
    "find_close_match = difflib.get_close_matches(movie_name, list_of_all_titles)\n",
    "print(find_close_match)\n"
   ]
  },
  {
   "cell_type": "code",
   "execution_count": 205,
   "id": "31d00e2f",
   "metadata": {},
   "outputs": [
    {
     "name": "stdout",
     "output_type": "stream",
     "text": [
      "Baaghi\n"
     ]
    }
   ],
   "source": [
    "close_match = find_close_match[0]\n",
    "print(close_match)\n"
   ]
  },
  {
   "cell_type": "code",
   "execution_count": 206,
   "id": "1fbfb852",
   "metadata": {},
   "outputs": [
    {
     "name": "stdout",
     "output_type": "stream",
     "text": [
      "6\n"
     ]
    }
   ],
   "source": [
    "index_of_the_movie = movies_data[movies_data.Title == close_match]['index'].values[0]\n",
    "print(index_of_the_movie)\n"
   ]
  },
  {
   "cell_type": "code",
   "execution_count": 207,
   "id": "454d5f18",
   "metadata": {},
   "outputs": [
    {
     "name": "stdout",
     "output_type": "stream",
     "text": [
      "[(0, 0.0), (1, 0.0), (2, 0.0), (3, 0.0), (4, 0.0), (5, 0.0), (6, 1.0000000000000002), (7, 0.13888464136728898), (8, 0.0), (9, 0.0), (10, 0.0), (11, 0.10783019853168914), (12, 0.13710634864858048), (13, 0.09127268505435678), (14, 0.0), (15, 0.0), (16, 0.133112167468129), (17, 0.0), (18, 0.13694805945404184), (19, 0.0), (20, 0.0), (21, 0.0), (22, 0.0), (23, 0.0), (24, 0.0), (25, 0.0), (26, 0.0), (27, 0.0), (28, 0.0), (29, 0.0), (30, 0.0), (31, 0.0), (32, 0.0), (33, 0.0), (34, 0.0), (35, 0.0), (36, 0.08897945949102215), (37, 0.0), (38, 0.0), (39, 0.0), (40, 0.13140426451942877), (41, 0.0), (42, 0.0), (43, 0.0), (44, 0.0), (45, 0.0), (46, 0.0), (47, 0.0), (48, 0.0), (49, 0.0), (50, 0.10183359247503294), (51, 0.13710634864858048), (52, 0.0), (53, 0.13140426451942877), (54, 0.0), (55, 0.0), (56, 0.0), (57, 0.0), (58, 0.0), (59, 0.0), (60, 0.0), (61, 0.0), (62, 0.0), (63, 0.0), (64, 0.0), (65, 0.0), (66, 0.0), (67, 0.0), (68, 0.0), (69, 0.0), (70, 0.0), (71, 0.0), (72, 0.0), (73, 0.12524753524757146), (74, 0.0), (75, 0.0), (76, 0.0), (77, 0.0), (78, 0.0), (79, 0.0), (80, 0.0), (81, 0.0), (82, 0.0), (83, 0.0), (84, 0.1376080476717652), (85, 0.0), (86, 0.0), (87, 0.0), (88, 0.0), (89, 0.0), (90, 0.10441945620674213), (91, 0.0), (92, 0.0), (93, 0.0), (94, 0.0), (95, 0.0), (96, 0.0), (97, 0.0), (98, 0.0), (99, 0.0), (100, 0.0), (101, 0.0), (102, 0.0), (103, 0.0), (104, 0.13140426451942877), (105, 0.07565255377418344), (106, 0.0), (107, 0.0), (108, 0.0), (109, 0.15222028530615805), (110, 0.1267238026898831), (111, 0.0), (112, 0.0), (113, 0.15222028530615805), (114, 0.0), (115, 0.0), (116, 0.0), (117, 0.0), (118, 0.0), (119, 0.0), (120, 0.0), (121, 0.0), (122, 0.0), (123, 0.0), (124, 0.0), (125, 0.0), (126, 0.13710634864858048), (127, 0.12928489714407293), (128, 0.0), (129, 0.0), (130, 0.0), (131, 0.0), (132, 0.0), (133, 0.0), (134, 0.0), (135, 0.0), (136, 0.0), (137, 0.0), (138, 0.0), (139, 0.0), (140, 0.0), (141, 0.0), (142, 0.0), (143, 0.0), (144, 0.0), (145, 0.10029032376178504), (146, 0.0), (147, 0.13015546364688174), (148, 0.0), (149, 0.0), (150, 0.0), (151, 0.0), (152, 0.13015546364688174), (153, 0.08175591734719048), (154, 0.09017779444058183), (155, 0.0), (156, 0.10577272956614897), (157, 0.0), (158, 0.0), (159, 0.0), (160, 0.0), (161, 0.0), (162, 0.0), (163, 0.0), (164, 0.0), (165, 0.0), (166, 0.0), (167, 0.0), (168, 0.0), (169, 0.0), (170, 0.0), (171, 0.0), (172, 0.0), (173, 0.0), (174, 0.0), (175, 0.08065260464518892), (176, 0.0), (177, 0.0), (178, 0.0), (179, 0.0), (180, 0.0), (181, 0.0), (182, 0.13015546364688174), (183, 0.0), (184, 0.07604641528567217), (185, 0.0), (186, 0.0), (187, 0.0), (188, 0.0), (189, 0.0), (190, 0.0), (191, 0.0), (192, 0.0), (193, 0.0), (194, 0.0808443790683286), (195, 0.0), (196, 0.13710634864858048), (197, 0.0), (198, 0.0), (199, 0.0), (200, 0.0), (201, 0.0), (202, 0.0), (203, 0.0), (204, 0.0), (205, 0.0), (206, 0.0), (207, 0.0), (208, 0.12227264027194532), (209, 0.0), (210, 0.0), (211, 0.0), (212, 0.0), (213, 0.0), (214, 0.0), (215, 0.0), (216, 0.0), (217, 0.0), (218, 0.0), (219, 0.0), (220, 0.0), (221, 0.0), (222, 0.0), (223, 0.0), (224, 0.0), (225, 0.0), (226, 0.0), (227, 0.0), (228, 0.0), (229, 0.0), (230, 0.0), (231, 0.0), (232, 0.0), (233, 0.0), (234, 0.0), (235, 0.0), (236, 0.0), (237, 0.0), (238, 0.0), (239, 0.0), (240, 0.13710634864858048), (241, 0.0), (242, 0.0), (243, 0.0), (244, 0.0), (245, 0.0), (246, 0.0), (247, 0.0), (248, 0.0), (249, 0.07690785404598147), (250, 0.0), (251, 0.0), (252, 0.0), (253, 0.0), (254, 0.0), (255, 0.0), (256, 0.0), (257, 0.13987085689168288), (258, 0.0), (259, 0.0), (260, 0.0), (261, 0.0), (262, 0.0), (263, 0.0), (264, 0.0), (265, 0.0), (266, 0.0), (267, 0.0), (268, 0.0), (269, 0.0), (270, 0.0807037109559539), (271, 0.0), (272, 0.0), (273, 0.0), (274, 0.0), (275, 0.0), (276, 0.09342531446237914), (277, 0.0), (278, 0.0), (279, 0.0), (280, 0.0), (281, 0.0), (282, 0.0), (283, 0.0), (284, 0.0), (285, 0.0), (286, 0.0), (287, 0.0), (288, 0.0), (289, 0.0), (290, 0.0954100143136952), (291, 0.0), (292, 0.0), (293, 0.0), (294, 0.0), (295, 0.0), (296, 0.0), (297, 0.0), (298, 0.0), (299, 0.0), (300, 0.0), (301, 0.0), (302, 0.0), (303, 0.0), (304, 0.0), (305, 0.0), (306, 0.0), (307, 0.0), (308, 0.0), (309, 0.0), (310, 0.0), (311, 0.0), (312, 0.0), (313, 0.0), (314, 0.0), (315, 0.0), (316, 0.0), (317, 0.0), (318, 0.1267238026898831), (319, 0.0), (320, 0.0), (321, 0.0), (322, 0.0), (323, 0.0), (324, 0.0), (325, 0.0), (326, 0.0), (327, 0.0), (328, 0.0), (329, 0.0), (330, 0.0), (331, 0.0), (332, 0.0), (333, 0.0), (334, 0.0), (335, 0.0), (336, 0.0), (337, 0.0), (338, 0.0), (339, 0.0), (340, 0.0), (341, 0.0), (342, 0.0), (343, 0.0), (344, 0.0), (345, 0.0), (346, 0.0), (347, 0.0), (348, 0.0), (349, 0.0), (350, 0.0), (351, 0.0), (352, 0.0), (353, 0.0), (354, 0.0), (355, 0.0), (356, 0.0), (357, 0.0), (358, 0.0758402112719214), (359, 0.0), (360, 0.0), (361, 0.0), (362, 0.0), (363, 0.0), (364, 0.0), (365, 0.0), (366, 0.1267238026898831), (367, 0.0), (368, 0.0), (369, 0.13710634864858048), (370, 0.0), (371, 0.0), (372, 0.13958698733675115), (373, 0.0), (374, 0.0), (375, 0.0), (376, 0.0), (377, 0.0), (378, 0.0), (379, 0.0), (380, 0.0), (381, 0.0), (382, 0.0), (383, 0.0), (384, 0.0), (385, 0.0), (386, 0.0), (387, 0.0), (388, 0.0), (389, 0.0), (390, 0.07312429705081451), (391, 0.09746980533703116), (392, 0.08327908783267222), (393, 0.0), (394, 0.0), (395, 0.0), (396, 0.0), (397, 0.13015546364688174), (398, 0.0), (399, 0.0), (400, 0.0), (401, 0.0), (402, 0.0), (403, 0.0), (404, 0.0), (405, 0.08068601826310258), (406, 0.10760532736405914), (407, 0.0), (408, 0.0), (409, 0.09619193654745528), (410, 0.0), (411, 0.0), (412, 0.0), (413, 0.07492373697459624), (414, 0.0), (415, 0.0), (416, 0.0), (417, 0.0), (418, 0.0), (419, 0.0), (420, 0.0), (421, 0.0), (422, 0.0), (423, 0.0), (424, 0.0), (425, 0.13710634864858048), (426, 0.07116479316619749), (427, 0.0), (428, 0.0), (429, 0.0), (430, 0.0), (431, 0.0), (432, 0.1278755426472058), (433, 0.0), (434, 0.09403323674979028), (435, 0.0), (436, 0.0), (437, 0.0), (438, 0.0), (439, 0.0), (440, 0.0), (441, 0.0), (442, 0.0), (443, 0.0), (444, 0.0), (445, 0.0), (446, 0.0), (447, 0.0), (448, 0.0), (449, 0.0), (450, 0.0), (451, 0.0), (452, 0.0), (453, 0.133112167468129), (454, 0.0), (455, 0.0), (456, 0.0), (457, 0.0), (458, 0.133112167468129), (459, 0.0), (460, 0.0), (461, 0.0), (462, 0.0), (463, 0.0), (464, 0.0), (465, 0.0), (466, 0.0), (467, 0.0), (468, 0.09400638445479984), (469, 0.0), (470, 0.0), (471, 0.0), (472, 0.0), (473, 0.0), (474, 0.0), (475, 0.10928967538125066), (476, 0.0), (477, 0.0), (478, 0.0), (479, 0.0), (480, 0.0), (481, 0.0), (482, 0.0), (483, 0.0), (484, 0.0), (485, 0.13553616852213488), (486, 0.0), (487, 0.0), (488, 0.13888464136728898), (489, 0.0), (490, 0.0), (491, 0.0), (492, 0.0), (493, 0.0), (494, 0.0), (495, 0.0), (496, 0.0), (497, 0.13015546364688174), (498, 0.0), (499, 0.0), (500, 0.0), (501, 0.0), (502, 0.13710634864858048), (503, 0.07613027134202664), (504, 0.0), (505, 0.0), (506, 0.0), (507, 0.0), (508, 0.0), (509, 0.0), (510, 0.0), (511, 0.0), (512, 0.0), (513, 0.0), (514, 0.0), (515, 0.0), (516, 0.0), (517, 0.0), (518, 0.0), (519, 0.0), (520, 0.0), (521, 0.0), (522, 0.0), (523, 0.0), (524, 0.0), (525, 0.0), (526, 0.0), (527, 0.0), (528, 0.0), (529, 0.0), (530, 0.0), (531, 0.0), (532, 0.0), (533, 0.0), (534, 0.0), (535, 0.0), (536, 0.0), (537, 0.0), (538, 0.0), (539, 0.0), (540, 0.0), (541, 0.0), (542, 0.0), (543, 0.0), (544, 0.0), (545, 0.0), (546, 0.0), (547, 0.0), (548, 0.0), (549, 0.0), (550, 0.0), (551, 0.0), (552, 0.0), (553, 0.0), (554, 0.0), (555, 0.0), (556, 0.0), (557, 0.0), (558, 0.0), (559, 0.0), (560, 0.0), (561, 0.0), (562, 0.0), (563, 0.0), (564, 0.0), (565, 0.0), (566, 0.0), (567, 0.0), (568, 0.0), (569, 0.0), (570, 0.0), (571, 0.0), (572, 0.0), (573, 0.0), (574, 0.0), (575, 0.0), (576, 0.0), (577, 0.0), (578, 0.0), (579, 0.0), (580, 0.0), (581, 0.0), (582, 0.0), (583, 0.0), (584, 0.0), (585, 0.0), (586, 0.0), (587, 0.0), (588, 0.08953056103220661), (589, 0.0), (590, 0.0), (591, 0.0), (592, 0.0), (593, 0.0), (594, 0.0), (595, 0.0), (596, 0.0), (597, 0.0), (598, 0.0), (599, 0.0), (600, 0.0), (601, 0.0), (602, 0.0), (603, 0.0), (604, 0.11879924823898742), (605, 0.0), (606, 0.1408867944212603), (607, 0.0), (608, 0.0), (609, 0.0), (610, 0.0), (611, 0.0), (612, 0.0), (613, 0.07111976631203996), (614, 0.0), (615, 0.0), (616, 0.0), (617, 0.0), (618, 0.0), (619, 0.0), (620, 0.08875050756285421), (621, 0.0), (622, 0.0), (623, 0.0), (624, 0.0), (625, 0.0), (626, 0.0), (627, 0.0), (628, 0.0), (629, 0.0), (630, 0.0), (631, 0.0), (632, 0.0897038922291935), (633, 0.0), (634, 0.0), (635, 0.0), (636, 0.0), (637, 0.0), (638, 0.0), (639, 0.0), (640, 0.0), (641, 0.0), (642, 0.0), (643, 0.0), (644, 0.0), (645, 0.12014661139729312), (646, 0.0), (647, 0.0), (648, 0.0), (649, 0.0), (650, 0.0), (651, 0.0), (652, 0.0), (653, 0.13694805945404184), (654, 0.0), (655, 0.0), (656, 0.0), (657, 0.0), (658, 0.0), (659, 0.0), (660, 0.0), (661, 0.0), (662, 0.0), (663, 0.0), (664, 0.0), (665, 0.0), (666, 0.0), (667, 0.07009255163880118), (668, 0.0), (669, 0.0), (670, 0.0), (671, 0.0), (672, 0.0), (673, 0.0), (674, 0.0), (675, 0.0), (676, 0.0), (677, 0.0), (678, 0.0), (679, 0.0), (680, 0.0), (681, 0.0), (682, 0.0), (683, 0.0), (684, 0.13015546364688174), (685, 0.0), (686, 0.0), (687, 0.0), (688, 0.0), (689, 0.0), (690, 0.0), (691, 0.0), (692, 0.0), (693, 0.133112167468129), (694, 0.0), (695, 0.13710634864858048), (696, 0.0), (697, 0.0), (698, 0.0), (699, 0.09392182781720856), (700, 0.0), (701, 0.0), (702, 0.0), (703, 0.0), (704, 0.0), (705, 0.0), (706, 0.0), (707, 0.0), (708, 0.0), (709, 0.0), (710, 0.0), (711, 0.0), (712, 0.0), (713, 0.0), (714, 0.0), (715, 0.0), (716, 0.0), (717, 0.0), (718, 0.0), (719, 0.0), (720, 0.0), (721, 0.0), (722, 0.0), (723, 0.0), (724, 0.0), (725, 0.09306711543846623), (726, 0.0), (727, 0.0), (728, 0.0), (729, 0.0), (730, 0.0), (731, 0.0), (732, 0.0), (733, 0.0), (734, 0.0), (735, 0.0), (736, 0.0), (737, 0.0), (738, 0.0), (739, 0.0), (740, 0.0), (741, 0.0), (742, 0.10269085675927354), (743, 0.0), (744, 0.0), (745, 0.0), (746, 0.0), (747, 0.0), (748, 0.0), (749, 0.0), (750, 0.0), (751, 0.0), (752, 0.0), (753, 0.0), (754, 0.0), (755, 0.0), (756, 0.0), (757, 0.0), (758, 0.0), (759, 0.0), (760, 0.0), (761, 0.0), (762, 0.06975631155137446), (763, 0.0), (764, 0.0), (765, 0.0), (766, 0.0), (767, 0.133112167468129), (768, 0.0), (769, 0.0), (770, 0.0), (771, 0.0), (772, 0.0), (773, 0.08408044674050964), (774, 0.0), (775, 0.0), (776, 0.0), (777, 0.0), (778, 0.0), (779, 0.0), (780, 0.0), (781, 0.0), (782, 0.0), (783, 0.0), (784, 0.0), (785, 0.0), (786, 0.0), (787, 0.0), (788, 0.0), (789, 0.0), (790, 0.0), (791, 0.0), (792, 0.1376080476717652), (793, 0.0), (794, 0.0), (795, 0.0), (796, 0.0), (797, 0.0), (798, 0.0), (799, 0.0), (800, 0.0), (801, 0.0), (802, 0.0), (803, 0.13140426451942877), (804, 0.0), (805, 0.0), (806, 0.11133271920130144), (807, 0.0), (808, 0.0), (809, 0.0), (810, 0.0), (811, 0.0), (812, 0.0), (813, 0.09442929296946803), (814, 0.0), (815, 0.0), (816, 0.0), (817, 0.0), (818, 0.0), (819, 0.0), (820, 0.0), (821, 0.0), (822, 0.0), (823, 0.0), (824, 0.0), (825, 0.0), (826, 0.0), (827, 0.0), (828, 0.0), (829, 0.0), (830, 0.08717533217521702), (831, 0.0), (832, 0.0), (833, 0.0), (834, 0.0), (835, 0.0), (836, 0.0), (837, 0.0), (838, 0.0), (839, 0.0), (840, 0.0), (841, 0.0), (842, 0.0), (843, 0.0), (844, 0.0), (845, 0.0), (846, 0.0), (847, 0.0), (848, 0.08563641874673748), (849, 0.0), (850, 0.13140426451942877), (851, 0.0), (852, 0.0), (853, 0.0), (854, 0.0), (855, 0.0), (856, 0.0), (857, 0.0), (858, 0.0), (859, 0.0), (860, 0.0), (861, 0.0), (862, 0.0), (863, 0.0), (864, 0.0), (865, 0.0), (866, 0.0), (867, 0.0), (868, 0.0), (869, 0.0), (870, 0.10522350239296203), (871, 0.0), (872, 0.07971537247140204), (873, 0.0), (874, 0.0), (875, 0.0), (876, 0.0), (877, 0.0), (878, 0.0), (879, 0.0), (880, 0.0), (881, 0.0), (882, 0.0), (883, 0.0), (884, 0.0), (885, 0.0), (886, 0.0), (887, 0.1052860129538228), (888, 0.0), (889, 0.0), (890, 0.0), (891, 0.0), (892, 0.0), (893, 0.0), (894, 0.0), (895, 0.08476427991885618), (896, 0.0), (897, 0.08972501272771524), (898, 0.0), (899, 0.0), (900, 0.0), (901, 0.0), (902, 0.0), (903, 0.0), (904, 0.0), (905, 0.0), (906, 0.0), (907, 0.0), (908, 0.10009328819145813), (909, 0.0), (910, 0.0), (911, 0.0), (912, 0.0), (913, 0.1041296601469191), (914, 0.10817874694379329), (915, 0.0), (916, 0.0), (917, 0.0), (918, 0.13958698733675115), (919, 0.0), (920, 0.0), (921, 0.0), (922, 0.0), (923, 0.0), (924, 0.0), (925, 0.0), (926, 0.0), (927, 0.0), (928, 0.0), (929, 0.0), (930, 0.0), (931, 0.0), (932, 0.0), (933, 0.0), (934, 0.0), (935, 0.0), (936, 0.0), (937, 0.13710634864858048), (938, 0.0), (939, 0.0), (940, 0.14113076128783494), (941, 0.0), (942, 0.0), (943, 0.0), (944, 0.0), (945, 0.10029032376178504), (946, 0.0), (947, 0.14826751081355352), (948, 0.0), (949, 0.0), (950, 0.0), (951, 0.0), (952, 0.0), (953, 0.0), (954, 0.0), (955, 0.0), (956, 0.0), (957, 0.0), (958, 0.0), (959, 0.0), (960, 0.10029032376178504), (961, 0.0), (962, 0.0), (963, 0.0), (964, 0.0), (965, 0.0), (966, 0.0), (967, 0.0), (968, 0.0), (969, 0.0), (970, 0.0), (971, 0.0), (972, 0.0), (973, 0.0), (974, 0.0), (975, 0.0), (976, 0.13710634864858048), (977, 0.0), (978, 0.0), (979, 0.10029032376178504), (980, 0.0), (981, 0.0), (982, 0.0), (983, 0.0), (984, 0.0), (985, 0.0), (986, 0.0), (987, 0.0), (988, 0.0), (989, 0.0), (990, 0.0), (991, 0.0), (992, 0.08659856815243842), (993, 0.0996708453123818), (994, 0.0), (995, 0.0), (996, 0.0), (997, 0.0), (998, 0.0), (999, 0.0), (1000, 0.0), (1001, 0.0), (1002, 0.0), (1003, 0.0), (1004, 0.0), (1005, 0.0), (1006, 0.0), (1007, 0.0), (1008, 0.08707757924078408), (1009, 0.0), (1010, 0.0), (1011, 0.0), (1012, 0.0), (1013, 0.0), (1014, 0.0), (1015, 0.0), (1016, 0.0), (1017, 0.13710634864858048), (1018, 0.0), (1019, 0.0), (1020, 0.0), (1021, 0.0), (1022, 0.0), (1023, 0.0), (1024, 0.0), (1025, 0.0), (1026, 0.0), (1027, 0.13140426451942877), (1028, 0.0954100143136952), (1029, 0.0), (1030, 0.0), (1031, 0.0), (1032, 0.0776447586828646), (1033, 0.13710634864858048), (1034, 0.0), (1035, 0.0), (1036, 0.0), (1037, 0.07065877374212297), (1038, 0.0), (1039, 0.0), (1040, 0.0), (1041, 0.0), (1042, 0.0), (1043, 0.0), (1044, 0.0), (1045, 0.0), (1046, 0.0), (1047, 0.0), (1048, 0.0), (1049, 0.0), (1050, 0.14826751081355352), (1051, 0.0), (1052, 0.0), (1053, 0.0), (1054, 0.0), (1055, 0.0), (1056, 0.133112167468129), (1057, 0.10783019853168914), (1058, 0.0), (1059, 0.0), (1060, 0.0), (1061, 0.0), (1062, 0.0), (1063, 0.0), (1064, 0.0), (1065, 0.0), (1066, 0.0), (1067, 0.13198696794127296), (1068, 0.0), (1069, 0.08547405978356738), (1070, 0.0), (1071, 0.0), (1072, 0.0), (1073, 0.0), (1074, 0.0), (1075, 0.10577272956614897), (1076, 0.0), (1077, 0.0), (1078, 0.0), (1079, 0.0), (1080, 0.0), (1081, 0.0), (1082, 0.0), (1083, 0.0), (1084, 0.0), (1085, 0.08387497385006995), (1086, 0.0), (1087, 0.0), (1088, 0.0), (1089, 0.0), (1090, 0.0), (1091, 0.0), (1092, 0.09129336602433841), (1093, 0.0), (1094, 0.0), (1095, 0.0), (1096, 0.0), (1097, 0.0), (1098, 0.0), (1099, 0.0), (1100, 0.0996708453123818), (1101, 0.0), (1102, 0.0), (1103, 0.0), (1104, 0.0), (1105, 0.0), (1106, 0.0), (1107, 0.0), (1108, 0.0), (1109, 0.0), (1110, 0.0), (1111, 0.0), (1112, 0.0), (1113, 0.1243829210908113), (1114, 0.0), (1115, 0.0), (1116, 0.0), (1117, 0.0), (1118, 0.0), (1119, 0.0), (1120, 0.0), (1121, 0.0), (1122, 0.0), (1123, 0.0), (1124, 0.0), (1125, 0.0), (1126, 0.0), (1127, 0.0), (1128, 0.133112167468129), (1129, 0.0), (1130, 0.0), (1131, 0.0), (1132, 0.0), (1133, 0.0), (1134, 0.0), (1135, 0.0), (1136, 0.0), (1137, 0.0), (1138, 0.0), (1139, 0.0), (1140, 0.07618860545965883), (1141, 0.10336822524778026), (1142, 0.0), (1143, 0.0), (1144, 0.0), (1145, 0.1434396681821584), (1146, 0.0), (1147, 0.0), (1148, 0.0), (1149, 0.0), (1150, 0.0), (1151, 0.0), (1152, 0.0), (1153, 0.0), (1154, 0.0), (1155, 0.0), (1156, 0.0), (1157, 0.0), (1158, 0.0), (1159, 0.13710634864858048), (1160, 0.0), (1161, 0.13140426451942877), (1162, 0.0), (1163, 0.0), (1164, 0.0), (1165, 0.0), (1166, 0.0), (1167, 0.0), (1168, 0.0), (1169, 0.15222028530615805), (1170, 0.0), (1171, 0.08461265037600116), (1172, 0.0), (1173, 0.0), (1174, 0.0), (1175, 0.13198696794127296), (1176, 0.0), (1177, 0.0), (1178, 0.0), (1179, 0.13015546364688174), (1180, 0.08178496527848901), (1181, 0.0), (1182, 0.0), (1183, 0.0), (1184, 0.0), (1185, 0.0), (1186, 0.0), (1187, 0.0), (1188, 0.0), (1189, 0.0), (1190, 0.0), (1191, 0.14564854806641947), (1192, 0.13015546364688174), (1193, 0.0), (1194, 0.0), (1195, 0.0), (1196, 0.133112167468129), (1197, 0.0), (1198, 0.0), (1199, 0.0), (1200, 0.0), (1201, 0.0), (1202, 0.0), (1203, 0.0), (1204, 0.0), (1205, 0.0), (1206, 0.0), (1207, 0.0), (1208, 0.0), (1209, 0.0), (1210, 0.0), (1211, 0.0), (1212, 0.0), (1213, 0.0), (1214, 0.0), (1215, 0.0), (1216, 0.0), (1217, 0.0), (1218, 0.14530328705788215), (1219, 0.0), (1220, 0.0), (1221, 0.0), (1222, 0.0), (1223, 0.0), (1224, 0.13710634864858048), (1225, 0.0), (1226, 0.0), (1227, 0.0), (1228, 0.0), (1229, 0.0), (1230, 0.0), (1231, 0.0), (1232, 0.0), (1233, 0.10721833074456781), (1234, 0.0), (1235, 0.0), (1236, 0.0), (1237, 0.0), (1238, 0.0), (1239, 0.09823363454651358), (1240, 0.0), (1241, 0.0), (1242, 0.0), (1243, 0.0), (1244, 0.0), (1245, 0.0), (1246, 0.10048618105015109), (1247, 0.0), (1248, 0.0), (1249, 0.0), (1250, 0.0), (1251, 0.0), (1252, 0.0), (1253, 0.0), (1254, 0.0), (1255, 0.0), (1256, 0.0), (1257, 0.0), (1258, 0.0), (1259, 0.09771947704544726), (1260, 0.0), (1261, 0.0), (1262, 0.0), (1263, 0.0), (1264, 0.0), (1265, 0.0), (1266, 0.0), (1267, 0.0), (1268, 0.0), (1269, 0.0), (1270, 0.0), (1271, 0.0), (1272, 0.0), (1273, 0.0), (1274, 0.0), (1275, 0.0), (1276, 0.0), (1277, 0.0), (1278, 0.0), (1279, 0.0), (1280, 0.0), (1281, 0.0), (1282, 0.0), (1283, 0.0), (1284, 0.0), (1285, 0.0), (1286, 0.0), (1287, 0.0), (1288, 0.0), (1289, 0.0), (1290, 0.0), (1291, 0.10464056902443715), (1292, 0.0), (1293, 0.14185341236551158), (1294, 0.0), (1295, 0.0), (1296, 0.0), (1297, 0.0), (1298, 0.0), (1299, 0.0), (1300, 0.0), (1301, 0.11595817395210593), (1302, 0.0), (1303, 0.14287030451422697), (1304, 0.0), (1305, 0.0), (1306, 0.0), (1307, 0.13710634864858048), (1308, 0.0), (1309, 0.0), (1310, 0.0), (1311, 0.0), (1312, 0.0), (1313, 0.0), (1314, 0.0), (1315, 0.0), (1316, 0.10029032376178504), (1317, 0.0), (1318, 0.0), (1319, 0.0), (1320, 0.0), (1321, 0.0), (1322, 0.0), (1323, 0.0), (1324, 0.13710634864858048), (1325, 0.0), (1326, 0.13198696794127296), (1327, 0.0), (1328, 0.0), (1329, 0.0784683783043852), (1330, 0.0), (1331, 0.0), (1332, 0.0), (1333, 0.0), (1334, 0.0), (1335, 0.0), (1336, 0.0), (1337, 0.0), (1338, 0.133112167468129), (1339, 0.0), (1340, 0.0), (1341, 0.0), (1342, 0.0), (1343, 0.0), (1344, 0.0), (1345, 0.09255167505066408), (1346, 0.0), (1347, 0.0), (1348, 0.0), (1349, 0.13710634864858048), (1350, 0.0), (1351, 0.0), (1352, 0.0), (1353, 0.13710634864858048), (1354, 0.0), (1355, 0.0), (1356, 0.0), (1357, 0.0), (1358, 0.0), (1359, 0.14680866366040507), (1360, 0.0), (1361, 0.0), (1362, 0.0), (1363, 0.0), (1364, 0.0), (1365, 0.0), (1366, 0.0), (1367, 0.0), (1368, 0.0), (1369, 0.1021040746746842), (1370, 0.0), (1371, 0.0), (1372, 0.0), (1373, 0.13015546364688174), (1374, 0.0), (1375, 0.0), (1376, 0.0), (1377, 0.0), (1378, 0.0), (1379, 0.06373843369443796), (1380, 0.0), (1381, 0.0), (1382, 0.0), (1383, 0.0), (1384, 0.0), (1385, 0.0), (1386, 0.0), (1387, 0.0), (1388, 0.0), (1389, 0.0), (1390, 0.0), (1391, 0.0), (1392, 0.0), (1393, 0.0), (1394, 0.0), (1395, 0.0), (1396, 0.0), (1397, 0.0), (1398, 0.0), (1399, 0.0), (1400, 0.0), (1401, 0.08902240734197413), (1402, 0.0), (1403, 0.13140426451942877), (1404, 0.0), (1405, 0.14826751081355352), (1406, 0.0), (1407, 0.09177071807883383), (1408, 0.0), (1409, 0.0), (1410, 0.0), (1411, 0.0), (1412, 0.0), (1413, 0.0), (1414, 0.0), (1415, 0.12384497375316852), (1416, 0.0), (1417, 0.0), (1418, 0.0), (1419, 0.0), (1420, 0.0), (1421, 0.13710634864858048), (1422, 0.0), (1423, 0.0), (1424, 0.0), (1425, 0.0), (1426, 0.0), (1427, 0.0), (1428, 0.0), (1429, 0.0794464064871269), (1430, 0.0), (1431, 0.0), (1432, 0.09981584511920248), (1433, 0.0), (1434, 0.0), (1435, 0.0), (1436, 0.0), (1437, 0.0), (1438, 0.0), (1439, 0.0), (1440, 0.0), (1441, 0.0), (1442, 0.13710634864858048), (1443, 0.0), (1444, 0.0), (1445, 0.0), (1446, 0.0), (1447, 0.0), (1448, 0.0), (1449, 0.0), (1450, 0.0), (1451, 0.0), (1452, 0.0), (1453, 0.0), (1454, 0.0), (1455, 0.0), (1456, 0.0), (1457, 0.0), (1458, 0.0), (1459, 0.08798965948204536), (1460, 0.0), (1461, 0.0), (1462, 0.0), (1463, 0.13710634864858048), (1464, 0.0), (1465, 0.0), (1466, 0.0), (1467, 0.0), (1468, 0.0), (1469, 0.0), (1470, 0.13140426451942877), (1471, 0.0), (1472, 0.0), (1473, 0.0), (1474, 0.06189413792797197), (1475, 0.0), (1476, 0.0), (1477, 0.0), (1478, 0.0), (1479, 0.0), (1480, 0.0), (1481, 0.0), (1482, 0.0), (1483, 0.0), (1484, 0.133112167468129), (1485, 0.0), (1486, 0.0), (1487, 0.13198696794127296), (1488, 0.0), (1489, 0.11251247342623681), (1490, 0.0), (1491, 0.0), (1492, 0.13888464136728898), (1493, 0.0), (1494, 0.0), (1495, 0.0), (1496, 0.0), (1497, 0.0), (1498, 0.0), (1499, 0.0), (1500, 0.0), (1501, 0.0), (1502, 0.10390606227734078), (1503, 0.0), (1504, 0.0), (1505, 0.07219281986115432), (1506, 0.0), (1507, 0.0), (1508, 0.0), (1509, 0.0), (1510, 0.0), (1511, 0.0), (1512, 0.0), (1513, 0.09270502057894338), (1514, 0.0), (1515, 0.07561027261876742), (1516, 0.0), (1517, 0.0), (1518, 0.0), (1519, 0.0), (1520, 0.0), (1521, 0.0), (1522, 0.0), (1523, 0.0), (1524, 0.0), (1525, 0.0), (1526, 0.0), (1527, 0.0), (1528, 0.0), (1529, 0.0), (1530, 0.13198696794127296), (1531, 0.0), (1532, 0.0), (1533, 0.0), (1534, 0.0), (1535, 0.0), (1536, 0.0), (1537, 0.0), (1538, 0.0), (1539, 0.0), (1540, 0.0), (1541, 0.0), (1542, 0.0), (1543, 0.0), (1544, 0.0), (1545, 0.13140426451942877), (1546, 0.0), (1547, 0.0), (1548, 0.0), (1549, 0.0), (1550, 0.0), (1551, 0.0), (1552, 0.0), (1553, 0.0), (1554, 0.0), (1555, 0.0), (1556, 0.0), (1557, 0.1007789408669877), (1558, 0.0), (1559, 0.13553616852213488), (1560, 0.0), (1561, 0.0), (1562, 0.0), (1563, 0.0), (1564, 0.0), (1565, 0.0), (1566, 0.0), (1567, 0.0), (1568, 0.0), (1569, 0.0), (1570, 0.0), (1571, 0.0), (1572, 0.0), (1573, 0.0), (1574, 0.0), (1575, 0.0), (1576, 0.0), (1577, 0.0), (1578, 0.0), (1579, 0.0), (1580, 0.0), (1581, 0.0), (1582, 0.08514877435889248), (1583, 0.0), (1584, 0.0), (1585, 0.0), (1586, 0.0), (1587, 0.0), (1588, 0.0), (1589, 0.0), (1590, 0.0), (1591, 0.0), (1592, 0.0), (1593, 0.0), (1594, 0.0), (1595, 0.0), (1596, 0.0), (1597, 0.0), (1598, 0.0), (1599, 0.0), (1600, 0.0), (1601, 0.0), (1602, 0.0), (1603, 0.0), (1604, 0.09673290974375665), (1605, 0.0), (1606, 0.0), (1607, 0.0), (1608, 0.0), (1609, 0.0), (1610, 0.0), (1611, 0.0), (1612, 0.0), (1613, 0.0), (1614, 0.0), (1615, 0.13015546364688174), (1616, 0.0), (1617, 0.15415563595980253), (1618, 0.10519862004864021), (1619, 0.0), (1620, 0.0), (1621, 0.09947743139902299), (1622, 0.0), (1623, 0.0), (1624, 0.0), (1625, 0.0), (1626, 0.0), (1627, 0.0), (1628, 0.0), (1629, 0.133112167468129), (1630, 0.0), (1631, 0.0), (1632, 0.0), (1633, 0.0), (1634, 0.0), (1635, 0.0), (1636, 0.0), (1637, 0.0), (1638, 0.0), (1639, 0.0), (1640, 0.0), (1641, 0.0), (1642, 0.0), (1643, 0.0), (1644, 0.13710634864858048), (1645, 0.0), (1646, 0.0), (1647, 0.0), (1648, 0.0), (1649, 0.0), (1650, 0.0), (1651, 0.0), (1652, 0.0), (1653, 0.13140426451942877), (1654, 0.0), (1655, 0.0), (1656, 0.0), (1657, 0.0), (1658, 0.0), (1659, 0.0), (1660, 0.0), (1661, 0.0), (1662, 0.0), (1663, 0.08690628615262028), (1664, 0.0), (1665, 0.0), (1666, 0.0), (1667, 0.0), (1668, 0.0), (1669, 0.0), (1670, 0.0), (1671, 0.0), (1672, 0.0), (1673, 0.0), (1674, 0.0), (1675, 0.0), (1676, 0.0), (1677, 0.0), (1678, 0.09960998451040404), (1679, 0.0), (1680, 0.0), (1681, 0.10269085675927354), (1682, 0.0), (1683, 0.0), (1684, 0.0), (1685, 0.0), (1686, 0.1267238026898831), (1687, 0.0), (1688, 0.10713713537910982), (1689, 0.0), (1690, 0.0), (1691, 0.0), (1692, 0.0), (1693, 0.0), (1694, 0.0), (1695, 0.0), (1696, 0.0), (1697, 0.0), (1698, 0.0), (1699, 0.0), (1700, 0.0), (1701, 0.0), (1702, 0.114612989668473), (1703, 0.13710634864858048), (1704, 0.0), (1705, 0.0), (1706, 0.0), (1707, 0.0), (1708, 0.0), (1709, 0.0), (1710, 0.0), (1711, 0.0), (1712, 0.0), (1713, 0.0), (1714, 0.0), (1715, 0.0), (1716, 0.0), (1717, 0.0), (1718, 0.0), (1719, 0.0), (1720, 0.0), (1721, 0.0), (1722, 0.0), (1723, 0.0), (1724, 0.13710634864858048), (1725, 0.0), (1726, 0.0), (1727, 0.0), (1728, 0.0), (1729, 0.0), (1730, 0.0), (1731, 0.0), (1732, 0.10029032376178504), (1733, 0.08561218000618644), (1734, 0.133112167468129), (1735, 0.06699679702105034), (1736, 0.0), (1737, 0.0), (1738, 0.0), (1739, 0.0), (1740, 0.0), (1741, 0.0), (1742, 0.0), (1743, 0.0), (1744, 0.0), (1745, 0.0), (1746, 0.0), (1747, 0.0), (1748, 0.0), (1749, 0.0), (1750, 0.0), (1751, 0.0), (1752, 0.0), (1753, 0.0), (1754, 0.0), (1755, 0.0), (1756, 0.0), (1757, 0.0), (1758, 0.133112167468129), (1759, 0.0), (1760, 0.0), (1761, 0.09528017327970727), (1762, 0.0), (1763, 0.0), (1764, 0.0), (1765, 0.15222028530615805), (1766, 0.0), (1767, 0.0), (1768, 0.0), (1769, 0.0), (1770, 0.0), (1771, 0.0), (1772, 0.0), (1773, 0.0), (1774, 0.0), (1775, 0.0), (1776, 0.13015546364688174), (1777, 0.12227264027194532), (1778, 0.0559491034815807), (1779, 0.0), (1780, 0.0), (1781, 0.0), (1782, 0.0954100143136952), (1783, 0.0), (1784, 0.0), (1785, 0.0), (1786, 0.0), (1787, 0.0), (1788, 0.1434396681821584), (1789, 0.0), (1790, 0.0), (1791, 0.09553273030675347), (1792, 0.0), (1793, 0.0), (1794, 0.0), (1795, 0.0), (1796, 0.0), (1797, 0.0), (1798, 0.1070613436323334), (1799, 0.0), (1800, 0.0), (1801, 0.10022832180625856), (1802, 0.0), (1803, 0.0), (1804, 0.0), (1805, 0.0), (1806, 0.0), (1807, 0.0), (1808, 0.0), (1809, 0.0), (1810, 0.0), (1811, 0.0), (1812, 0.0), (1813, 0.0), (1814, 0.0), (1815, 0.0), (1816, 0.0), (1817, 0.0), (1818, 0.0), (1819, 0.0), (1820, 0.0), (1821, 0.0), (1822, 0.0), (1823, 0.0), (1824, 0.0), (1825, 0.0), (1826, 0.0), (1827, 0.0), (1828, 0.0), (1829, 0.133112167468129), (1830, 0.0), (1831, 0.0), (1832, 0.0), (1833, 0.0), (1834, 0.0), (1835, 0.0), (1836, 0.10434948187947388), (1837, 0.06491035307682352), (1838, 0.0), (1839, 0.0), (1840, 0.0), (1841, 0.0), (1842, 0.0), (1843, 0.0), (1844, 0.0), (1845, 0.13694805945404184), (1846, 0.10029032376178504), (1847, 0.0), (1848, 0.0), (1849, 0.11726580603498989), (1850, 0.0), (1851, 0.0), (1852, 0.0), (1853, 0.0), (1854, 0.0), (1855, 0.0), (1856, 0.0), (1857, 0.133112167468129), (1858, 0.0), (1859, 0.0), (1860, 0.0), (1861, 0.13198696794127296), (1862, 0.0), (1863, 0.0), (1864, 0.0), (1865, 0.08192979604137174), (1866, 0.0), (1867, 0.0), (1868, 0.0), (1869, 0.0), (1870, 0.0), (1871, 0.0), (1872, 0.0), (1873, 0.0), (1874, 0.0), (1875, 0.0), (1876, 0.0), (1877, 0.0), (1878, 0.0), (1879, 0.0), (1880, 0.0), (1881, 0.0), (1882, 0.0), (1883, 0.0), (1884, 0.0), (1885, 0.0), (1886, 0.0), (1887, 0.0), (1888, 0.0), (1889, 0.09778406648009161), (1890, 0.0), (1891, 0.0), (1892, 0.0), (1893, 0.0), (1894, 0.0), (1895, 0.0), (1896, 0.0), (1897, 0.0), (1898, 0.0), (1899, 0.0), (1900, 0.0), (1901, 0.0), (1902, 0.0), (1903, 0.0), (1904, 0.0), (1905, 0.0), (1906, 0.0), (1907, 0.0), (1908, 0.0), (1909, 0.0), (1910, 0.0), (1911, 0.0), (1912, 0.13015546364688174), (1913, 0.0), (1914, 0.0), (1915, 0.0), (1916, 0.0), (1917, 0.0), (1918, 0.9547432811969934), (1919, 0.0), (1920, 0.0), (1921, 0.0), (1922, 0.0), (1923, 0.0), (1924, 0.0), (1925, 0.0), (1926, 0.10441945620674213), (1927, 0.0), (1928, 0.0), (1929, 0.0), (1930, 0.0), (1931, 0.0), (1932, 0.0), (1933, 0.0), (1934, 0.0), (1935, 0.0), (1936, 0.08110408713924931), (1937, 0.0), (1938, 0.0), (1939, 0.0), (1940, 0.08696334213548876), (1941, 0.133112167468129), (1942, 0.0), (1943, 0.0), (1944, 0.0), (1945, 0.0), (1946, 0.0), (1947, 0.0), (1948, 0.0), (1949, 0.0), (1950, 0.0), (1951, 0.0), (1952, 0.0), (1953, 0.0), (1954, 0.0), (1955, 0.0), (1956, 0.09747149963587486), (1957, 0.0), (1958, 0.0), (1959, 0.0), (1960, 0.0), (1961, 0.11293370429776335), (1962, 0.0), (1963, 0.0), (1964, 0.0), (1965, 0.0), (1966, 0.0), (1967, 0.09412043272186292), (1968, 0.0), (1969, 0.0), (1970, 0.0), (1971, 0.0), (1972, 0.0), (1973, 0.0), (1974, 0.0), (1975, 0.0), (1976, 0.0), (1977, 0.0), (1978, 0.0), (1979, 0.0), (1980, 0.0), (1981, 0.0), (1982, 0.0), (1983, 0.0), (1984, 0.0), (1985, 0.0), (1986, 0.0), (1987, 0.0), (1988, 0.0), (1989, 0.13015546364688174), (1990, 0.0), (1991, 0.0), (1992, 0.0), (1993, 0.0), (1994, 0.0839042138848786), (1995, 0.0), (1996, 0.0), (1997, 0.0), (1998, 0.10048618105015109), (1999, 0.0), (2000, 0.0), (2001, 0.0), (2002, 0.0), (2003, 0.13198696794127296), (2004, 0.08004401988787677), (2005, 0.10029032376178504), (2006, 0.0), (2007, 0.0), (2008, 0.0), (2009, 0.0), (2010, 0.0), (2011, 0.0), (2012, 0.0), (2013, 0.0), (2014, 0.0), (2015, 0.0), (2016, 0.0), (2017, 0.0), (2018, 0.0), (2019, 0.0), (2020, 0.0), (2021, 0.0), (2022, 0.0), (2023, 0.0), (2024, 0.0), (2025, 0.0), (2026, 0.0), (2027, 0.0), (2028, 0.0), (2029, 0.06929009131697558), (2030, 0.0), (2031, 0.13710634864858048), (2032, 0.08606751106705177), (2033, 0.0), (2034, 0.0), (2035, 0.0), (2036, 0.13015546364688174), (2037, 0.0), (2038, 0.0), (2039, 0.0), (2040, 0.0), (2041, 0.0), (2042, 0.0), (2043, 0.0), (2044, 0.0), (2045, 0.0), (2046, 0.0), (2047, 0.07776109866592046), (2048, 0.0), (2049, 0.0), (2050, 0.0), (2051, 0.0), (2052, 0.0), (2053, 0.0), (2054, 0.0), (2055, 0.0), (2056, 0.0), (2057, 0.13710634864858048), (2058, 0.10577272956614897), (2059, 0.0), (2060, 0.13710634864858048), (2061, 0.0), (2062, 0.0), (2063, 0.0), (2064, 0.0), (2065, 0.0), (2066, 0.0), (2067, 0.0), (2068, 0.16218920432677505), (2069, 0.0), (2070, 0.0), (2071, 0.0), (2072, 0.10527245196523587), (2073, 0.0), (2074, 0.0), (2075, 0.0), (2076, 0.0), (2077, 0.0), (2078, 0.13140426451942877), (2079, 0.0), (2080, 0.0), (2081, 0.0), (2082, 0.0), (2083, 0.0), (2084, 0.10029032376178504), (2085, 0.0), (2086, 0.0), (2087, 0.14826751081355352), (2088, 0.0)]\n"
     ]
    }
   ],
   "source": [
    "similarity_score = list(enumerate(similarity[index_of_the_movie]))\n",
    "print(similarity_score)\n"
   ]
  },
  {
   "cell_type": "code",
   "execution_count": 208,
   "id": "4886a063",
   "metadata": {},
   "outputs": [
    {
     "name": "stdout",
     "output_type": "stream",
     "text": [
      "[(6, 1.0000000000000002), (1918, 0.9547432811969934), (2068, 0.16218920432677505), (1617, 0.15415563595980253), (109, 0.15222028530615805), (113, 0.15222028530615805), (1169, 0.15222028530615805), (1765, 0.15222028530615805), (947, 0.14826751081355352), (1050, 0.14826751081355352), (1405, 0.14826751081355352), (2087, 0.14826751081355352), (1359, 0.14680866366040507), (1191, 0.14564854806641947), (1218, 0.14530328705788215), (1145, 0.1434396681821584), (1788, 0.1434396681821584), (1303, 0.14287030451422697), (1293, 0.14185341236551158), (940, 0.14113076128783494), (606, 0.1408867944212603), (257, 0.13987085689168288), (372, 0.13958698733675115), (918, 0.13958698733675115), (7, 0.13888464136728898), (488, 0.13888464136728898), (1492, 0.13888464136728898), (84, 0.1376080476717652), (792, 0.1376080476717652), (12, 0.13710634864858048), (51, 0.13710634864858048), (126, 0.13710634864858048), (196, 0.13710634864858048), (240, 0.13710634864858048), (369, 0.13710634864858048), (425, 0.13710634864858048), (502, 0.13710634864858048), (695, 0.13710634864858048), (937, 0.13710634864858048), (976, 0.13710634864858048), (1017, 0.13710634864858048), (1033, 0.13710634864858048), (1159, 0.13710634864858048), (1224, 0.13710634864858048), (1307, 0.13710634864858048), (1324, 0.13710634864858048), (1349, 0.13710634864858048), (1353, 0.13710634864858048), (1421, 0.13710634864858048), (1442, 0.13710634864858048), (1463, 0.13710634864858048), (1644, 0.13710634864858048), (1703, 0.13710634864858048), (1724, 0.13710634864858048), (2031, 0.13710634864858048), (2057, 0.13710634864858048), (2060, 0.13710634864858048), (18, 0.13694805945404184), (653, 0.13694805945404184), (1845, 0.13694805945404184), (485, 0.13553616852213488), (1559, 0.13553616852213488), (16, 0.133112167468129), (453, 0.133112167468129), (458, 0.133112167468129), (693, 0.133112167468129), (767, 0.133112167468129), (1056, 0.133112167468129), (1128, 0.133112167468129), (1196, 0.133112167468129), (1338, 0.133112167468129), (1484, 0.133112167468129), (1629, 0.133112167468129), (1734, 0.133112167468129), (1758, 0.133112167468129), (1829, 0.133112167468129), (1857, 0.133112167468129), (1941, 0.133112167468129), (1067, 0.13198696794127296), (1175, 0.13198696794127296), (1326, 0.13198696794127296), (1487, 0.13198696794127296), (1530, 0.13198696794127296), (1861, 0.13198696794127296), (2003, 0.13198696794127296), (40, 0.13140426451942877), (53, 0.13140426451942877), (104, 0.13140426451942877), (803, 0.13140426451942877), (850, 0.13140426451942877), (1027, 0.13140426451942877), (1161, 0.13140426451942877), (1403, 0.13140426451942877), (1470, 0.13140426451942877), (1545, 0.13140426451942877), (1653, 0.13140426451942877), (2078, 0.13140426451942877), (147, 0.13015546364688174), (152, 0.13015546364688174), (182, 0.13015546364688174), (397, 0.13015546364688174), (497, 0.13015546364688174), (684, 0.13015546364688174), (1179, 0.13015546364688174), (1192, 0.13015546364688174), (1373, 0.13015546364688174), (1615, 0.13015546364688174), (1776, 0.13015546364688174), (1912, 0.13015546364688174), (1989, 0.13015546364688174), (2036, 0.13015546364688174), (127, 0.12928489714407293), (432, 0.1278755426472058), (110, 0.1267238026898831), (318, 0.1267238026898831), (366, 0.1267238026898831), (1686, 0.1267238026898831), (73, 0.12524753524757146), (1113, 0.1243829210908113), (1415, 0.12384497375316852), (208, 0.12227264027194532), (1777, 0.12227264027194532), (645, 0.12014661139729312), (604, 0.11879924823898742), (1849, 0.11726580603498989), (1301, 0.11595817395210593), (1702, 0.114612989668473), (1961, 0.11293370429776335), (1489, 0.11251247342623681), (806, 0.11133271920130144), (475, 0.10928967538125066), (914, 0.10817874694379329), (11, 0.10783019853168914), (1057, 0.10783019853168914), (406, 0.10760532736405914), (1233, 0.10721833074456781), (1688, 0.10713713537910982), (1798, 0.1070613436323334), (156, 0.10577272956614897), (1075, 0.10577272956614897), (2058, 0.10577272956614897), (887, 0.1052860129538228), (2072, 0.10527245196523587), (870, 0.10522350239296203), (1618, 0.10519862004864021), (1291, 0.10464056902443715), (90, 0.10441945620674213), (1926, 0.10441945620674213), (1836, 0.10434948187947388), (913, 0.1041296601469191), (1502, 0.10390606227734078), (1141, 0.10336822524778026), (742, 0.10269085675927354), (1681, 0.10269085675927354), (1369, 0.1021040746746842), (50, 0.10183359247503294), (1557, 0.1007789408669877), (1246, 0.10048618105015109), (1998, 0.10048618105015109), (145, 0.10029032376178504), (945, 0.10029032376178504), (960, 0.10029032376178504), (979, 0.10029032376178504), (1316, 0.10029032376178504), (1732, 0.10029032376178504), (1846, 0.10029032376178504), (2005, 0.10029032376178504), (2084, 0.10029032376178504), (1801, 0.10022832180625856), (908, 0.10009328819145813), (1432, 0.09981584511920248), (993, 0.0996708453123818), (1100, 0.0996708453123818), (1678, 0.09960998451040404), (1621, 0.09947743139902299), (1239, 0.09823363454651358), (1889, 0.09778406648009161), (1259, 0.09771947704544726), (1956, 0.09747149963587486), (391, 0.09746980533703116), (1604, 0.09673290974375665), (409, 0.09619193654745528), (1791, 0.09553273030675347), (290, 0.0954100143136952), (1028, 0.0954100143136952), (1782, 0.0954100143136952), (1761, 0.09528017327970727), (813, 0.09442929296946803), (1967, 0.09412043272186292), (434, 0.09403323674979028), (468, 0.09400638445479984), (699, 0.09392182781720856), (276, 0.09342531446237914), (725, 0.09306711543846623), (1513, 0.09270502057894338), (1345, 0.09255167505066408), (1407, 0.09177071807883383), (1092, 0.09129336602433841), (13, 0.09127268505435678), (154, 0.09017779444058183), (897, 0.08972501272771524), (632, 0.0897038922291935), (588, 0.08953056103220661), (1401, 0.08902240734197413), (36, 0.08897945949102215), (620, 0.08875050756285421), (1459, 0.08798965948204536), (830, 0.08717533217521702), (1008, 0.08707757924078408), (1940, 0.08696334213548876), (1663, 0.08690628615262028), (992, 0.08659856815243842), (2032, 0.08606751106705177), (848, 0.08563641874673748), (1733, 0.08561218000618644), (1069, 0.08547405978356738), (1582, 0.08514877435889248), (895, 0.08476427991885618), (1171, 0.08461265037600116), (773, 0.08408044674050964), (1994, 0.0839042138848786), (1085, 0.08387497385006995), (392, 0.08327908783267222), (1865, 0.08192979604137174), (1180, 0.08178496527848901), (153, 0.08175591734719048), (1936, 0.08110408713924931), (194, 0.0808443790683286), (270, 0.0807037109559539), (405, 0.08068601826310258), (175, 0.08065260464518892), (2004, 0.08004401988787677), (872, 0.07971537247140204), (1429, 0.0794464064871269), (1329, 0.0784683783043852), (2047, 0.07776109866592046), (1032, 0.0776447586828646), (249, 0.07690785404598147), (1140, 0.07618860545965883), (503, 0.07613027134202664), (184, 0.07604641528567217), (358, 0.0758402112719214), (105, 0.07565255377418344), (1515, 0.07561027261876742), (413, 0.07492373697459624), (390, 0.07312429705081451), (1505, 0.07219281986115432), (426, 0.07116479316619749), (613, 0.07111976631203996), (1037, 0.07065877374212297), (667, 0.07009255163880118), (762, 0.06975631155137446), (2029, 0.06929009131697558), (1735, 0.06699679702105034), (1837, 0.06491035307682352), (1379, 0.06373843369443796), (1474, 0.06189413792797197), (1778, 0.0559491034815807), (0, 0.0), (1, 0.0), (2, 0.0), (3, 0.0), (4, 0.0), (5, 0.0), (8, 0.0), (9, 0.0), (10, 0.0), (14, 0.0), (15, 0.0), (17, 0.0), (19, 0.0), (20, 0.0), (21, 0.0), (22, 0.0), (23, 0.0), (24, 0.0), (25, 0.0), (26, 0.0), (27, 0.0), (28, 0.0), (29, 0.0), (30, 0.0), (31, 0.0), (32, 0.0), (33, 0.0), (34, 0.0), (35, 0.0), (37, 0.0), (38, 0.0), (39, 0.0), (41, 0.0), (42, 0.0), (43, 0.0), (44, 0.0), (45, 0.0), (46, 0.0), (47, 0.0), (48, 0.0), (49, 0.0), (52, 0.0), (54, 0.0), (55, 0.0), (56, 0.0), (57, 0.0), (58, 0.0), (59, 0.0), (60, 0.0), (61, 0.0), (62, 0.0), (63, 0.0), (64, 0.0), (65, 0.0), (66, 0.0), (67, 0.0), (68, 0.0), (69, 0.0), (70, 0.0), (71, 0.0), (72, 0.0), (74, 0.0), (75, 0.0), (76, 0.0), (77, 0.0), (78, 0.0), (79, 0.0), (80, 0.0), (81, 0.0), (82, 0.0), (83, 0.0), (85, 0.0), (86, 0.0), (87, 0.0), (88, 0.0), (89, 0.0), (91, 0.0), (92, 0.0), (93, 0.0), (94, 0.0), (95, 0.0), (96, 0.0), (97, 0.0), (98, 0.0), (99, 0.0), (100, 0.0), (101, 0.0), (102, 0.0), (103, 0.0), (106, 0.0), (107, 0.0), (108, 0.0), (111, 0.0), (112, 0.0), (114, 0.0), (115, 0.0), (116, 0.0), (117, 0.0), (118, 0.0), (119, 0.0), (120, 0.0), (121, 0.0), (122, 0.0), (123, 0.0), (124, 0.0), (125, 0.0), (128, 0.0), (129, 0.0), (130, 0.0), (131, 0.0), (132, 0.0), (133, 0.0), (134, 0.0), (135, 0.0), (136, 0.0), (137, 0.0), (138, 0.0), (139, 0.0), (140, 0.0), (141, 0.0), (142, 0.0), (143, 0.0), (144, 0.0), (146, 0.0), (148, 0.0), (149, 0.0), (150, 0.0), (151, 0.0), (155, 0.0), (157, 0.0), (158, 0.0), (159, 0.0), (160, 0.0), (161, 0.0), (162, 0.0), (163, 0.0), (164, 0.0), (165, 0.0), (166, 0.0), (167, 0.0), (168, 0.0), (169, 0.0), (170, 0.0), (171, 0.0), (172, 0.0), (173, 0.0), (174, 0.0), (176, 0.0), (177, 0.0), (178, 0.0), (179, 0.0), (180, 0.0), (181, 0.0), (183, 0.0), (185, 0.0), (186, 0.0), (187, 0.0), (188, 0.0), (189, 0.0), (190, 0.0), (191, 0.0), (192, 0.0), (193, 0.0), (195, 0.0), (197, 0.0), (198, 0.0), (199, 0.0), (200, 0.0), (201, 0.0), (202, 0.0), (203, 0.0), (204, 0.0), (205, 0.0), (206, 0.0), (207, 0.0), (209, 0.0), (210, 0.0), (211, 0.0), (212, 0.0), (213, 0.0), (214, 0.0), (215, 0.0), (216, 0.0), (217, 0.0), (218, 0.0), (219, 0.0), (220, 0.0), (221, 0.0), (222, 0.0), (223, 0.0), (224, 0.0), (225, 0.0), (226, 0.0), (227, 0.0), (228, 0.0), (229, 0.0), (230, 0.0), (231, 0.0), (232, 0.0), (233, 0.0), (234, 0.0), (235, 0.0), (236, 0.0), (237, 0.0), (238, 0.0), (239, 0.0), (241, 0.0), (242, 0.0), (243, 0.0), (244, 0.0), (245, 0.0), (246, 0.0), (247, 0.0), (248, 0.0), (250, 0.0), (251, 0.0), (252, 0.0), (253, 0.0), (254, 0.0), (255, 0.0), (256, 0.0), (258, 0.0), (259, 0.0), (260, 0.0), (261, 0.0), (262, 0.0), (263, 0.0), (264, 0.0), (265, 0.0), (266, 0.0), (267, 0.0), (268, 0.0), (269, 0.0), (271, 0.0), (272, 0.0), (273, 0.0), (274, 0.0), (275, 0.0), (277, 0.0), (278, 0.0), (279, 0.0), (280, 0.0), (281, 0.0), (282, 0.0), (283, 0.0), (284, 0.0), (285, 0.0), (286, 0.0), (287, 0.0), (288, 0.0), (289, 0.0), (291, 0.0), (292, 0.0), (293, 0.0), (294, 0.0), (295, 0.0), (296, 0.0), (297, 0.0), (298, 0.0), (299, 0.0), (300, 0.0), (301, 0.0), (302, 0.0), (303, 0.0), (304, 0.0), (305, 0.0), (306, 0.0), (307, 0.0), (308, 0.0), (309, 0.0), (310, 0.0), (311, 0.0), (312, 0.0), (313, 0.0), (314, 0.0), (315, 0.0), (316, 0.0), (317, 0.0), (319, 0.0), (320, 0.0), (321, 0.0), (322, 0.0), (323, 0.0), (324, 0.0), (325, 0.0), (326, 0.0), (327, 0.0), (328, 0.0), (329, 0.0), (330, 0.0), (331, 0.0), (332, 0.0), (333, 0.0), (334, 0.0), (335, 0.0), (336, 0.0), (337, 0.0), (338, 0.0), (339, 0.0), (340, 0.0), (341, 0.0), (342, 0.0), (343, 0.0), (344, 0.0), (345, 0.0), (346, 0.0), (347, 0.0), (348, 0.0), (349, 0.0), (350, 0.0), (351, 0.0), (352, 0.0), (353, 0.0), (354, 0.0), (355, 0.0), (356, 0.0), (357, 0.0), (359, 0.0), (360, 0.0), (361, 0.0), (362, 0.0), (363, 0.0), (364, 0.0), (365, 0.0), (367, 0.0), (368, 0.0), (370, 0.0), (371, 0.0), (373, 0.0), (374, 0.0), (375, 0.0), (376, 0.0), (377, 0.0), (378, 0.0), (379, 0.0), (380, 0.0), (381, 0.0), (382, 0.0), (383, 0.0), (384, 0.0), (385, 0.0), (386, 0.0), (387, 0.0), (388, 0.0), (389, 0.0), (393, 0.0), (394, 0.0), (395, 0.0), (396, 0.0), (398, 0.0), (399, 0.0), (400, 0.0), (401, 0.0), (402, 0.0), (403, 0.0), (404, 0.0), (407, 0.0), (408, 0.0), (410, 0.0), (411, 0.0), (412, 0.0), (414, 0.0), (415, 0.0), (416, 0.0), (417, 0.0), (418, 0.0), (419, 0.0), (420, 0.0), (421, 0.0), (422, 0.0), (423, 0.0), (424, 0.0), (427, 0.0), (428, 0.0), (429, 0.0), (430, 0.0), (431, 0.0), (433, 0.0), (435, 0.0), (436, 0.0), (437, 0.0), (438, 0.0), (439, 0.0), (440, 0.0), (441, 0.0), (442, 0.0), (443, 0.0), (444, 0.0), (445, 0.0), (446, 0.0), (447, 0.0), (448, 0.0), (449, 0.0), (450, 0.0), (451, 0.0), (452, 0.0), (454, 0.0), (455, 0.0), (456, 0.0), (457, 0.0), (459, 0.0), (460, 0.0), (461, 0.0), (462, 0.0), (463, 0.0), (464, 0.0), (465, 0.0), (466, 0.0), (467, 0.0), (469, 0.0), (470, 0.0), (471, 0.0), (472, 0.0), (473, 0.0), (474, 0.0), (476, 0.0), (477, 0.0), (478, 0.0), (479, 0.0), (480, 0.0), (481, 0.0), (482, 0.0), (483, 0.0), (484, 0.0), (486, 0.0), (487, 0.0), (489, 0.0), (490, 0.0), (491, 0.0), (492, 0.0), (493, 0.0), (494, 0.0), (495, 0.0), (496, 0.0), (498, 0.0), (499, 0.0), (500, 0.0), (501, 0.0), (504, 0.0), (505, 0.0), (506, 0.0), (507, 0.0), (508, 0.0), (509, 0.0), (510, 0.0), (511, 0.0), (512, 0.0), (513, 0.0), (514, 0.0), (515, 0.0), (516, 0.0), (517, 0.0), (518, 0.0), (519, 0.0), (520, 0.0), (521, 0.0), (522, 0.0), (523, 0.0), (524, 0.0), (525, 0.0), (526, 0.0), (527, 0.0), (528, 0.0), (529, 0.0), (530, 0.0), (531, 0.0), (532, 0.0), (533, 0.0), (534, 0.0), (535, 0.0), (536, 0.0), (537, 0.0), (538, 0.0), (539, 0.0), (540, 0.0), (541, 0.0), (542, 0.0), (543, 0.0), (544, 0.0), (545, 0.0), (546, 0.0), (547, 0.0), (548, 0.0), (549, 0.0), (550, 0.0), (551, 0.0), (552, 0.0), (553, 0.0), (554, 0.0), (555, 0.0), (556, 0.0), (557, 0.0), (558, 0.0), (559, 0.0), (560, 0.0), (561, 0.0), (562, 0.0), (563, 0.0), (564, 0.0), (565, 0.0), (566, 0.0), (567, 0.0), (568, 0.0), (569, 0.0), (570, 0.0), (571, 0.0), (572, 0.0), (573, 0.0), (574, 0.0), (575, 0.0), (576, 0.0), (577, 0.0), (578, 0.0), (579, 0.0), (580, 0.0), (581, 0.0), (582, 0.0), (583, 0.0), (584, 0.0), (585, 0.0), (586, 0.0), (587, 0.0), (589, 0.0), (590, 0.0), (591, 0.0), (592, 0.0), (593, 0.0), (594, 0.0), (595, 0.0), (596, 0.0), (597, 0.0), (598, 0.0), (599, 0.0), (600, 0.0), (601, 0.0), (602, 0.0), (603, 0.0), (605, 0.0), (607, 0.0), (608, 0.0), (609, 0.0), (610, 0.0), (611, 0.0), (612, 0.0), (614, 0.0), (615, 0.0), (616, 0.0), (617, 0.0), (618, 0.0), (619, 0.0), (621, 0.0), (622, 0.0), (623, 0.0), (624, 0.0), (625, 0.0), (626, 0.0), (627, 0.0), (628, 0.0), (629, 0.0), (630, 0.0), (631, 0.0), (633, 0.0), (634, 0.0), (635, 0.0), (636, 0.0), (637, 0.0), (638, 0.0), (639, 0.0), (640, 0.0), (641, 0.0), (642, 0.0), (643, 0.0), (644, 0.0), (646, 0.0), (647, 0.0), (648, 0.0), (649, 0.0), (650, 0.0), (651, 0.0), (652, 0.0), (654, 0.0), (655, 0.0), (656, 0.0), (657, 0.0), (658, 0.0), (659, 0.0), (660, 0.0), (661, 0.0), (662, 0.0), (663, 0.0), (664, 0.0), (665, 0.0), (666, 0.0), (668, 0.0), (669, 0.0), (670, 0.0), (671, 0.0), (672, 0.0), (673, 0.0), (674, 0.0), (675, 0.0), (676, 0.0), (677, 0.0), (678, 0.0), (679, 0.0), (680, 0.0), (681, 0.0), (682, 0.0), (683, 0.0), (685, 0.0), (686, 0.0), (687, 0.0), (688, 0.0), (689, 0.0), (690, 0.0), (691, 0.0), (692, 0.0), (694, 0.0), (696, 0.0), (697, 0.0), (698, 0.0), (700, 0.0), (701, 0.0), (702, 0.0), (703, 0.0), (704, 0.0), (705, 0.0), (706, 0.0), (707, 0.0), (708, 0.0), (709, 0.0), (710, 0.0), (711, 0.0), (712, 0.0), (713, 0.0), (714, 0.0), (715, 0.0), (716, 0.0), (717, 0.0), (718, 0.0), (719, 0.0), (720, 0.0), (721, 0.0), (722, 0.0), (723, 0.0), (724, 0.0), (726, 0.0), (727, 0.0), (728, 0.0), (729, 0.0), (730, 0.0), (731, 0.0), (732, 0.0), (733, 0.0), (734, 0.0), (735, 0.0), (736, 0.0), (737, 0.0), (738, 0.0), (739, 0.0), (740, 0.0), (741, 0.0), (743, 0.0), (744, 0.0), (745, 0.0), (746, 0.0), (747, 0.0), (748, 0.0), (749, 0.0), (750, 0.0), (751, 0.0), (752, 0.0), (753, 0.0), (754, 0.0), (755, 0.0), (756, 0.0), (757, 0.0), (758, 0.0), (759, 0.0), (760, 0.0), (761, 0.0), (763, 0.0), (764, 0.0), (765, 0.0), (766, 0.0), (768, 0.0), (769, 0.0), (770, 0.0), (771, 0.0), (772, 0.0), (774, 0.0), (775, 0.0), (776, 0.0), (777, 0.0), (778, 0.0), (779, 0.0), (780, 0.0), (781, 0.0), (782, 0.0), (783, 0.0), (784, 0.0), (785, 0.0), (786, 0.0), (787, 0.0), (788, 0.0), (789, 0.0), (790, 0.0), (791, 0.0), (793, 0.0), (794, 0.0), (795, 0.0), (796, 0.0), (797, 0.0), (798, 0.0), (799, 0.0), (800, 0.0), (801, 0.0), (802, 0.0), (804, 0.0), (805, 0.0), (807, 0.0), (808, 0.0), (809, 0.0), (810, 0.0), (811, 0.0), (812, 0.0), (814, 0.0), (815, 0.0), (816, 0.0), (817, 0.0), (818, 0.0), (819, 0.0), (820, 0.0), (821, 0.0), (822, 0.0), (823, 0.0), (824, 0.0), (825, 0.0), (826, 0.0), (827, 0.0), (828, 0.0), (829, 0.0), (831, 0.0), (832, 0.0), (833, 0.0), (834, 0.0), (835, 0.0), (836, 0.0), (837, 0.0), (838, 0.0), (839, 0.0), (840, 0.0), (841, 0.0), (842, 0.0), (843, 0.0), (844, 0.0), (845, 0.0), (846, 0.0), (847, 0.0), (849, 0.0), (851, 0.0), (852, 0.0), (853, 0.0), (854, 0.0), (855, 0.0), (856, 0.0), (857, 0.0), (858, 0.0), (859, 0.0), (860, 0.0), (861, 0.0), (862, 0.0), (863, 0.0), (864, 0.0), (865, 0.0), (866, 0.0), (867, 0.0), (868, 0.0), (869, 0.0), (871, 0.0), (873, 0.0), (874, 0.0), (875, 0.0), (876, 0.0), (877, 0.0), (878, 0.0), (879, 0.0), (880, 0.0), (881, 0.0), (882, 0.0), (883, 0.0), (884, 0.0), (885, 0.0), (886, 0.0), (888, 0.0), (889, 0.0), (890, 0.0), (891, 0.0), (892, 0.0), (893, 0.0), (894, 0.0), (896, 0.0), (898, 0.0), (899, 0.0), (900, 0.0), (901, 0.0), (902, 0.0), (903, 0.0), (904, 0.0), (905, 0.0), (906, 0.0), (907, 0.0), (909, 0.0), (910, 0.0), (911, 0.0), (912, 0.0), (915, 0.0), (916, 0.0), (917, 0.0), (919, 0.0), (920, 0.0), (921, 0.0), (922, 0.0), (923, 0.0), (924, 0.0), (925, 0.0), (926, 0.0), (927, 0.0), (928, 0.0), (929, 0.0), (930, 0.0), (931, 0.0), (932, 0.0), (933, 0.0), (934, 0.0), (935, 0.0), (936, 0.0), (938, 0.0), (939, 0.0), (941, 0.0), (942, 0.0), (943, 0.0), (944, 0.0), (946, 0.0), (948, 0.0), (949, 0.0), (950, 0.0), (951, 0.0), (952, 0.0), (953, 0.0), (954, 0.0), (955, 0.0), (956, 0.0), (957, 0.0), (958, 0.0), (959, 0.0), (961, 0.0), (962, 0.0), (963, 0.0), (964, 0.0), (965, 0.0), (966, 0.0), (967, 0.0), (968, 0.0), (969, 0.0), (970, 0.0), (971, 0.0), (972, 0.0), (973, 0.0), (974, 0.0), (975, 0.0), (977, 0.0), (978, 0.0), (980, 0.0), (981, 0.0), (982, 0.0), (983, 0.0), (984, 0.0), (985, 0.0), (986, 0.0), (987, 0.0), (988, 0.0), (989, 0.0), (990, 0.0), (991, 0.0), (994, 0.0), (995, 0.0), (996, 0.0), (997, 0.0), (998, 0.0), (999, 0.0), (1000, 0.0), (1001, 0.0), (1002, 0.0), (1003, 0.0), (1004, 0.0), (1005, 0.0), (1006, 0.0), (1007, 0.0), (1009, 0.0), (1010, 0.0), (1011, 0.0), (1012, 0.0), (1013, 0.0), (1014, 0.0), (1015, 0.0), (1016, 0.0), (1018, 0.0), (1019, 0.0), (1020, 0.0), (1021, 0.0), (1022, 0.0), (1023, 0.0), (1024, 0.0), (1025, 0.0), (1026, 0.0), (1029, 0.0), (1030, 0.0), (1031, 0.0), (1034, 0.0), (1035, 0.0), (1036, 0.0), (1038, 0.0), (1039, 0.0), (1040, 0.0), (1041, 0.0), (1042, 0.0), (1043, 0.0), (1044, 0.0), (1045, 0.0), (1046, 0.0), (1047, 0.0), (1048, 0.0), (1049, 0.0), (1051, 0.0), (1052, 0.0), (1053, 0.0), (1054, 0.0), (1055, 0.0), (1058, 0.0), (1059, 0.0), (1060, 0.0), (1061, 0.0), (1062, 0.0), (1063, 0.0), (1064, 0.0), (1065, 0.0), (1066, 0.0), (1068, 0.0), (1070, 0.0), (1071, 0.0), (1072, 0.0), (1073, 0.0), (1074, 0.0), (1076, 0.0), (1077, 0.0), (1078, 0.0), (1079, 0.0), (1080, 0.0), (1081, 0.0), (1082, 0.0), (1083, 0.0), (1084, 0.0), (1086, 0.0), (1087, 0.0), (1088, 0.0), (1089, 0.0), (1090, 0.0), (1091, 0.0), (1093, 0.0), (1094, 0.0), (1095, 0.0), (1096, 0.0), (1097, 0.0), (1098, 0.0), (1099, 0.0), (1101, 0.0), (1102, 0.0), (1103, 0.0), (1104, 0.0), (1105, 0.0), (1106, 0.0), (1107, 0.0), (1108, 0.0), (1109, 0.0), (1110, 0.0), (1111, 0.0), (1112, 0.0), (1114, 0.0), (1115, 0.0), (1116, 0.0), (1117, 0.0), (1118, 0.0), (1119, 0.0), (1120, 0.0), (1121, 0.0), (1122, 0.0), (1123, 0.0), (1124, 0.0), (1125, 0.0), (1126, 0.0), (1127, 0.0), (1129, 0.0), (1130, 0.0), (1131, 0.0), (1132, 0.0), (1133, 0.0), (1134, 0.0), (1135, 0.0), (1136, 0.0), (1137, 0.0), (1138, 0.0), (1139, 0.0), (1142, 0.0), (1143, 0.0), (1144, 0.0), (1146, 0.0), (1147, 0.0), (1148, 0.0), (1149, 0.0), (1150, 0.0), (1151, 0.0), (1152, 0.0), (1153, 0.0), (1154, 0.0), (1155, 0.0), (1156, 0.0), (1157, 0.0), (1158, 0.0), (1160, 0.0), (1162, 0.0), (1163, 0.0), (1164, 0.0), (1165, 0.0), (1166, 0.0), (1167, 0.0), (1168, 0.0), (1170, 0.0), (1172, 0.0), (1173, 0.0), (1174, 0.0), (1176, 0.0), (1177, 0.0), (1178, 0.0), (1181, 0.0), (1182, 0.0), (1183, 0.0), (1184, 0.0), (1185, 0.0), (1186, 0.0), (1187, 0.0), (1188, 0.0), (1189, 0.0), (1190, 0.0), (1193, 0.0), (1194, 0.0), (1195, 0.0), (1197, 0.0), (1198, 0.0), (1199, 0.0), (1200, 0.0), (1201, 0.0), (1202, 0.0), (1203, 0.0), (1204, 0.0), (1205, 0.0), (1206, 0.0), (1207, 0.0), (1208, 0.0), (1209, 0.0), (1210, 0.0), (1211, 0.0), (1212, 0.0), (1213, 0.0), (1214, 0.0), (1215, 0.0), (1216, 0.0), (1217, 0.0), (1219, 0.0), (1220, 0.0), (1221, 0.0), (1222, 0.0), (1223, 0.0), (1225, 0.0), (1226, 0.0), (1227, 0.0), (1228, 0.0), (1229, 0.0), (1230, 0.0), (1231, 0.0), (1232, 0.0), (1234, 0.0), (1235, 0.0), (1236, 0.0), (1237, 0.0), (1238, 0.0), (1240, 0.0), (1241, 0.0), (1242, 0.0), (1243, 0.0), (1244, 0.0), (1245, 0.0), (1247, 0.0), (1248, 0.0), (1249, 0.0), (1250, 0.0), (1251, 0.0), (1252, 0.0), (1253, 0.0), (1254, 0.0), (1255, 0.0), (1256, 0.0), (1257, 0.0), (1258, 0.0), (1260, 0.0), (1261, 0.0), (1262, 0.0), (1263, 0.0), (1264, 0.0), (1265, 0.0), (1266, 0.0), (1267, 0.0), (1268, 0.0), (1269, 0.0), (1270, 0.0), (1271, 0.0), (1272, 0.0), (1273, 0.0), (1274, 0.0), (1275, 0.0), (1276, 0.0), (1277, 0.0), (1278, 0.0), (1279, 0.0), (1280, 0.0), (1281, 0.0), (1282, 0.0), (1283, 0.0), (1284, 0.0), (1285, 0.0), (1286, 0.0), (1287, 0.0), (1288, 0.0), (1289, 0.0), (1290, 0.0), (1292, 0.0), (1294, 0.0), (1295, 0.0), (1296, 0.0), (1297, 0.0), (1298, 0.0), (1299, 0.0), (1300, 0.0), (1302, 0.0), (1304, 0.0), (1305, 0.0), (1306, 0.0), (1308, 0.0), (1309, 0.0), (1310, 0.0), (1311, 0.0), (1312, 0.0), (1313, 0.0), (1314, 0.0), (1315, 0.0), (1317, 0.0), (1318, 0.0), (1319, 0.0), (1320, 0.0), (1321, 0.0), (1322, 0.0), (1323, 0.0), (1325, 0.0), (1327, 0.0), (1328, 0.0), (1330, 0.0), (1331, 0.0), (1332, 0.0), (1333, 0.0), (1334, 0.0), (1335, 0.0), (1336, 0.0), (1337, 0.0), (1339, 0.0), (1340, 0.0), (1341, 0.0), (1342, 0.0), (1343, 0.0), (1344, 0.0), (1346, 0.0), (1347, 0.0), (1348, 0.0), (1350, 0.0), (1351, 0.0), (1352, 0.0), (1354, 0.0), (1355, 0.0), (1356, 0.0), (1357, 0.0), (1358, 0.0), (1360, 0.0), (1361, 0.0), (1362, 0.0), (1363, 0.0), (1364, 0.0), (1365, 0.0), (1366, 0.0), (1367, 0.0), (1368, 0.0), (1370, 0.0), (1371, 0.0), (1372, 0.0), (1374, 0.0), (1375, 0.0), (1376, 0.0), (1377, 0.0), (1378, 0.0), (1380, 0.0), (1381, 0.0), (1382, 0.0), (1383, 0.0), (1384, 0.0), (1385, 0.0), (1386, 0.0), (1387, 0.0), (1388, 0.0), (1389, 0.0), (1390, 0.0), (1391, 0.0), (1392, 0.0), (1393, 0.0), (1394, 0.0), (1395, 0.0), (1396, 0.0), (1397, 0.0), (1398, 0.0), (1399, 0.0), (1400, 0.0), (1402, 0.0), (1404, 0.0), (1406, 0.0), (1408, 0.0), (1409, 0.0), (1410, 0.0), (1411, 0.0), (1412, 0.0), (1413, 0.0), (1414, 0.0), (1416, 0.0), (1417, 0.0), (1418, 0.0), (1419, 0.0), (1420, 0.0), (1422, 0.0), (1423, 0.0), (1424, 0.0), (1425, 0.0), (1426, 0.0), (1427, 0.0), (1428, 0.0), (1430, 0.0), (1431, 0.0), (1433, 0.0), (1434, 0.0), (1435, 0.0), (1436, 0.0), (1437, 0.0), (1438, 0.0), (1439, 0.0), (1440, 0.0), (1441, 0.0), (1443, 0.0), (1444, 0.0), (1445, 0.0), (1446, 0.0), (1447, 0.0), (1448, 0.0), (1449, 0.0), (1450, 0.0), (1451, 0.0), (1452, 0.0), (1453, 0.0), (1454, 0.0), (1455, 0.0), (1456, 0.0), (1457, 0.0), (1458, 0.0), (1460, 0.0), (1461, 0.0), (1462, 0.0), (1464, 0.0), (1465, 0.0), (1466, 0.0), (1467, 0.0), (1468, 0.0), (1469, 0.0), (1471, 0.0), (1472, 0.0), (1473, 0.0), (1475, 0.0), (1476, 0.0), (1477, 0.0), (1478, 0.0), (1479, 0.0), (1480, 0.0), (1481, 0.0), (1482, 0.0), (1483, 0.0), (1485, 0.0), (1486, 0.0), (1488, 0.0), (1490, 0.0), (1491, 0.0), (1493, 0.0), (1494, 0.0), (1495, 0.0), (1496, 0.0), (1497, 0.0), (1498, 0.0), (1499, 0.0), (1500, 0.0), (1501, 0.0), (1503, 0.0), (1504, 0.0), (1506, 0.0), (1507, 0.0), (1508, 0.0), (1509, 0.0), (1510, 0.0), (1511, 0.0), (1512, 0.0), (1514, 0.0), (1516, 0.0), (1517, 0.0), (1518, 0.0), (1519, 0.0), (1520, 0.0), (1521, 0.0), (1522, 0.0), (1523, 0.0), (1524, 0.0), (1525, 0.0), (1526, 0.0), (1527, 0.0), (1528, 0.0), (1529, 0.0), (1531, 0.0), (1532, 0.0), (1533, 0.0), (1534, 0.0), (1535, 0.0), (1536, 0.0), (1537, 0.0), (1538, 0.0), (1539, 0.0), (1540, 0.0), (1541, 0.0), (1542, 0.0), (1543, 0.0), (1544, 0.0), (1546, 0.0), (1547, 0.0), (1548, 0.0), (1549, 0.0), (1550, 0.0), (1551, 0.0), (1552, 0.0), (1553, 0.0), (1554, 0.0), (1555, 0.0), (1556, 0.0), (1558, 0.0), (1560, 0.0), (1561, 0.0), (1562, 0.0), (1563, 0.0), (1564, 0.0), (1565, 0.0), (1566, 0.0), (1567, 0.0), (1568, 0.0), (1569, 0.0), (1570, 0.0), (1571, 0.0), (1572, 0.0), (1573, 0.0), (1574, 0.0), (1575, 0.0), (1576, 0.0), (1577, 0.0), (1578, 0.0), (1579, 0.0), (1580, 0.0), (1581, 0.0), (1583, 0.0), (1584, 0.0), (1585, 0.0), (1586, 0.0), (1587, 0.0), (1588, 0.0), (1589, 0.0), (1590, 0.0), (1591, 0.0), (1592, 0.0), (1593, 0.0), (1594, 0.0), (1595, 0.0), (1596, 0.0), (1597, 0.0), (1598, 0.0), (1599, 0.0), (1600, 0.0), (1601, 0.0), (1602, 0.0), (1603, 0.0), (1605, 0.0), (1606, 0.0), (1607, 0.0), (1608, 0.0), (1609, 0.0), (1610, 0.0), (1611, 0.0), (1612, 0.0), (1613, 0.0), (1614, 0.0), (1616, 0.0), (1619, 0.0), (1620, 0.0), (1622, 0.0), (1623, 0.0), (1624, 0.0), (1625, 0.0), (1626, 0.0), (1627, 0.0), (1628, 0.0), (1630, 0.0), (1631, 0.0), (1632, 0.0), (1633, 0.0), (1634, 0.0), (1635, 0.0), (1636, 0.0), (1637, 0.0), (1638, 0.0), (1639, 0.0), (1640, 0.0), (1641, 0.0), (1642, 0.0), (1643, 0.0), (1645, 0.0), (1646, 0.0), (1647, 0.0), (1648, 0.0), (1649, 0.0), (1650, 0.0), (1651, 0.0), (1652, 0.0), (1654, 0.0), (1655, 0.0), (1656, 0.0), (1657, 0.0), (1658, 0.0), (1659, 0.0), (1660, 0.0), (1661, 0.0), (1662, 0.0), (1664, 0.0), (1665, 0.0), (1666, 0.0), (1667, 0.0), (1668, 0.0), (1669, 0.0), (1670, 0.0), (1671, 0.0), (1672, 0.0), (1673, 0.0), (1674, 0.0), (1675, 0.0), (1676, 0.0), (1677, 0.0), (1679, 0.0), (1680, 0.0), (1682, 0.0), (1683, 0.0), (1684, 0.0), (1685, 0.0), (1687, 0.0), (1689, 0.0), (1690, 0.0), (1691, 0.0), (1692, 0.0), (1693, 0.0), (1694, 0.0), (1695, 0.0), (1696, 0.0), (1697, 0.0), (1698, 0.0), (1699, 0.0), (1700, 0.0), (1701, 0.0), (1704, 0.0), (1705, 0.0), (1706, 0.0), (1707, 0.0), (1708, 0.0), (1709, 0.0), (1710, 0.0), (1711, 0.0), (1712, 0.0), (1713, 0.0), (1714, 0.0), (1715, 0.0), (1716, 0.0), (1717, 0.0), (1718, 0.0), (1719, 0.0), (1720, 0.0), (1721, 0.0), (1722, 0.0), (1723, 0.0), (1725, 0.0), (1726, 0.0), (1727, 0.0), (1728, 0.0), (1729, 0.0), (1730, 0.0), (1731, 0.0), (1736, 0.0), (1737, 0.0), (1738, 0.0), (1739, 0.0), (1740, 0.0), (1741, 0.0), (1742, 0.0), (1743, 0.0), (1744, 0.0), (1745, 0.0), (1746, 0.0), (1747, 0.0), (1748, 0.0), (1749, 0.0), (1750, 0.0), (1751, 0.0), (1752, 0.0), (1753, 0.0), (1754, 0.0), (1755, 0.0), (1756, 0.0), (1757, 0.0), (1759, 0.0), (1760, 0.0), (1762, 0.0), (1763, 0.0), (1764, 0.0), (1766, 0.0), (1767, 0.0), (1768, 0.0), (1769, 0.0), (1770, 0.0), (1771, 0.0), (1772, 0.0), (1773, 0.0), (1774, 0.0), (1775, 0.0), (1779, 0.0), (1780, 0.0), (1781, 0.0), (1783, 0.0), (1784, 0.0), (1785, 0.0), (1786, 0.0), (1787, 0.0), (1789, 0.0), (1790, 0.0), (1792, 0.0), (1793, 0.0), (1794, 0.0), (1795, 0.0), (1796, 0.0), (1797, 0.0), (1799, 0.0), (1800, 0.0), (1802, 0.0), (1803, 0.0), (1804, 0.0), (1805, 0.0), (1806, 0.0), (1807, 0.0), (1808, 0.0), (1809, 0.0), (1810, 0.0), (1811, 0.0), (1812, 0.0), (1813, 0.0), (1814, 0.0), (1815, 0.0), (1816, 0.0), (1817, 0.0), (1818, 0.0), (1819, 0.0), (1820, 0.0), (1821, 0.0), (1822, 0.0), (1823, 0.0), (1824, 0.0), (1825, 0.0), (1826, 0.0), (1827, 0.0), (1828, 0.0), (1830, 0.0), (1831, 0.0), (1832, 0.0), (1833, 0.0), (1834, 0.0), (1835, 0.0), (1838, 0.0), (1839, 0.0), (1840, 0.0), (1841, 0.0), (1842, 0.0), (1843, 0.0), (1844, 0.0), (1847, 0.0), (1848, 0.0), (1850, 0.0), (1851, 0.0), (1852, 0.0), (1853, 0.0), (1854, 0.0), (1855, 0.0), (1856, 0.0), (1858, 0.0), (1859, 0.0), (1860, 0.0), (1862, 0.0), (1863, 0.0), (1864, 0.0), (1866, 0.0), (1867, 0.0), (1868, 0.0), (1869, 0.0), (1870, 0.0), (1871, 0.0), (1872, 0.0), (1873, 0.0), (1874, 0.0), (1875, 0.0), (1876, 0.0), (1877, 0.0), (1878, 0.0), (1879, 0.0), (1880, 0.0), (1881, 0.0), (1882, 0.0), (1883, 0.0), (1884, 0.0), (1885, 0.0), (1886, 0.0), (1887, 0.0), (1888, 0.0), (1890, 0.0), (1891, 0.0), (1892, 0.0), (1893, 0.0), (1894, 0.0), (1895, 0.0), (1896, 0.0), (1897, 0.0), (1898, 0.0), (1899, 0.0), (1900, 0.0), (1901, 0.0), (1902, 0.0), (1903, 0.0), (1904, 0.0), (1905, 0.0), (1906, 0.0), (1907, 0.0), (1908, 0.0), (1909, 0.0), (1910, 0.0), (1911, 0.0), (1913, 0.0), (1914, 0.0), (1915, 0.0), (1916, 0.0), (1917, 0.0), (1919, 0.0), (1920, 0.0), (1921, 0.0), (1922, 0.0), (1923, 0.0), (1924, 0.0), (1925, 0.0), (1927, 0.0), (1928, 0.0), (1929, 0.0), (1930, 0.0), (1931, 0.0), (1932, 0.0), (1933, 0.0), (1934, 0.0), (1935, 0.0), (1937, 0.0), (1938, 0.0), (1939, 0.0), (1942, 0.0), (1943, 0.0), (1944, 0.0), (1945, 0.0), (1946, 0.0), (1947, 0.0), (1948, 0.0), (1949, 0.0), (1950, 0.0), (1951, 0.0), (1952, 0.0), (1953, 0.0), (1954, 0.0), (1955, 0.0), (1957, 0.0), (1958, 0.0), (1959, 0.0), (1960, 0.0), (1962, 0.0), (1963, 0.0), (1964, 0.0), (1965, 0.0), (1966, 0.0), (1968, 0.0), (1969, 0.0), (1970, 0.0), (1971, 0.0), (1972, 0.0), (1973, 0.0), (1974, 0.0), (1975, 0.0), (1976, 0.0), (1977, 0.0), (1978, 0.0), (1979, 0.0), (1980, 0.0), (1981, 0.0), (1982, 0.0), (1983, 0.0), (1984, 0.0), (1985, 0.0), (1986, 0.0), (1987, 0.0), (1988, 0.0), (1990, 0.0), (1991, 0.0), (1992, 0.0), (1993, 0.0), (1995, 0.0), (1996, 0.0), (1997, 0.0), (1999, 0.0), (2000, 0.0), (2001, 0.0), (2002, 0.0), (2006, 0.0), (2007, 0.0), (2008, 0.0), (2009, 0.0), (2010, 0.0), (2011, 0.0), (2012, 0.0), (2013, 0.0), (2014, 0.0), (2015, 0.0), (2016, 0.0), (2017, 0.0), (2018, 0.0), (2019, 0.0), (2020, 0.0), (2021, 0.0), (2022, 0.0), (2023, 0.0), (2024, 0.0), (2025, 0.0), (2026, 0.0), (2027, 0.0), (2028, 0.0), (2030, 0.0), (2033, 0.0), (2034, 0.0), (2035, 0.0), (2037, 0.0), (2038, 0.0), (2039, 0.0), (2040, 0.0), (2041, 0.0), (2042, 0.0), (2043, 0.0), (2044, 0.0), (2045, 0.0), (2046, 0.0), (2048, 0.0), (2049, 0.0), (2050, 0.0), (2051, 0.0), (2052, 0.0), (2053, 0.0), (2054, 0.0), (2055, 0.0), (2056, 0.0), (2059, 0.0), (2061, 0.0), (2062, 0.0), (2063, 0.0), (2064, 0.0), (2065, 0.0), (2066, 0.0), (2067, 0.0), (2069, 0.0), (2070, 0.0), (2071, 0.0), (2073, 0.0), (2074, 0.0), (2075, 0.0), (2076, 0.0), (2077, 0.0), (2079, 0.0), (2080, 0.0), (2081, 0.0), (2082, 0.0), (2083, 0.0), (2085, 0.0), (2086, 0.0), (2088, 0.0)]\n"
     ]
    }
   ],
   "source": [
    "sorted_similar_movies = sorted(similarity_score, key = lambda x:x[1], reverse = True) \n",
    "print(sorted_similar_movies)\n"
   ]
  },
  {
   "cell_type": "code",
   "execution_count": 209,
   "id": "5f1daf40",
   "metadata": {
    "scrolled": true
   },
   "outputs": [
    {
     "name": "stdout",
     "output_type": "stream",
     "text": [
      "Movies suggested for you : \n",
      "\n",
      "1 . Baaghi\n",
      "2 . Baaghi 2\n",
      "3 . War\n",
      "4 . Hero\n",
      "5 . Indian\n",
      "6 . Kasam\n",
      "7 . Force\n",
      "8 . Force 2\n",
      "9 . Blue\n",
      "10 . Dabangg\n",
      "11 . Dhoom 3\n",
      "12 . Dabangg 3\n",
      "13 . D Day\n",
      "14 . Don 2\n",
      "15 . Housefull 2\n",
      "16 . Singham\n",
      "17 . Commando 2\n",
      "18 . Race 2\n",
      "19 . Dabangg 2\n",
      "20 . Wanted\n",
      "21 . Don\n",
      "22 . Dum\n",
      "23 . Dhoom\n",
      "24 . Luck\n",
      "25 . Badal\n",
      "26 . Elaan\n",
      "27 . Mardaani\n",
      "28 . Aashiq\n",
      "29 . Sunday\n"
     ]
    }
   ],
   "source": [
    "print('Movies suggested for you : \\n')\n",
    "i = 1\n",
    "for movie in sorted_similar_movies:\n",
    "    index = movie[0]\n",
    "    title_from_index = movies_data[movies_data.index==index]['Title'].values[0]\n",
    "    if (i<30):\n",
    "        print(i, '.',title_from_index)\n",
    "        i+=1\n"
   ]
  },
  {
   "cell_type": "code",
   "execution_count": 210,
   "id": "43847a82",
   "metadata": {},
   "outputs": [
    {
     "name": "stdout",
     "output_type": "stream",
     "text": [
      " Enter your favourite movie name : Baaghi\n",
      "Movies suggested for you : \n",
      "\n",
      "1 . Baaghi\n",
      "2 . Baaghi 2\n",
      "3 . War\n",
      "4 . Hero\n",
      "5 . Indian\n",
      "6 . Kasam\n",
      "7 . Force\n",
      "8 . Force 2\n",
      "9 . Blue\n",
      "10 . Dabangg\n",
      "11 . Dhoom 3\n",
      "12 . Dabangg 3\n",
      "13 . D Day\n",
      "14 . Don 2\n",
      "15 . Housefull 2\n",
      "16 . Singham\n",
      "17 . Commando 2\n",
      "18 . Race 2\n",
      "19 . Dabangg 2\n",
      "20 . Wanted\n",
      "21 . Don\n",
      "22 . Dum\n",
      "23 . Dhoom\n",
      "24 . Luck\n",
      "25 . Badal\n",
      "26 . Elaan\n",
      "27 . Mardaani\n",
      "28 . Aashiq\n",
      "29 . Sunday\n"
     ]
    }
   ],
   "source": [
    "#Consolidated code\n",
    "\n",
    "movie_name = input(' Enter your favourite movie name : ')\n",
    "\n",
    "list_of_all_titles = movies_data['Title'].tolist()\n",
    "\n",
    "find_close_match = difflib.get_close_matches(movie_name, list_of_all_titles)\n",
    "\n",
    "close_match = find_close_match[0]\n",
    "\n",
    "index_of_the_movie = movies_data[movies_data.Title == close_match]['index'].values[0]\n",
    "\n",
    "similarity_score = list(enumerate(similarity[index_of_the_movie]))\n",
    "\n",
    "sorted_similar_movies = sorted(similarity_score, key = lambda x:x[1], reverse = True) \n",
    "print('Movies suggested for you : \\n')\n",
    "\n",
    "i = 1\n",
    "\n",
    "for movie in sorted_similar_movies:\n",
    "    index = movie[0]\n",
    "    title_from_index = movies_data[movies_data.index==index]['Title'].values[0]\n",
    "    if (i<30):\n",
    "        print(i, '.',title_from_index)\n",
    "        i+=1\n"
   ]
  },
  {
   "cell_type": "code",
   "execution_count": null,
   "id": "d1d089fb",
   "metadata": {},
   "outputs": [],
   "source": []
  },
  {
   "cell_type": "code",
   "execution_count": null,
   "id": "81008c1a",
   "metadata": {},
   "outputs": [],
   "source": []
  }
 ],
 "metadata": {
  "kernelspec": {
   "display_name": "Python 3 (ipykernel)",
   "language": "python",
   "name": "python3"
  },
  "language_info": {
   "codemirror_mode": {
    "name": "ipython",
    "version": 3
   },
   "file_extension": ".py",
   "mimetype": "text/x-python",
   "name": "python",
   "nbconvert_exporter": "python",
   "pygments_lexer": "ipython3",
   "version": "3.9.12"
  }
 },
 "nbformat": 4,
 "nbformat_minor": 5
}
